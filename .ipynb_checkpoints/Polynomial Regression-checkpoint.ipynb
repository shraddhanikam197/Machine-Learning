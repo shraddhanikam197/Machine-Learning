{
 "cells": [
  {
   "cell_type": "code",
   "execution_count": 5,
   "id": "b99fe2e8",
   "metadata": {},
   "outputs": [],
   "source": [
    "x=[1,2,3,4,5,6,7,8,9,10,11,12,13,14,15,16,17]\n",
    "y=[100,60,50,60,60,55,60,65,70,70,75,76,78,90,99,99,10]"
   ]
  },
  {
   "cell_type": "code",
   "execution_count": 6,
   "id": "63e1ded2",
   "metadata": {},
   "outputs": [
    {
     "data": {
      "text/plain": [
       "17"
      ]
     },
     "execution_count": 6,
     "metadata": {},
     "output_type": "execute_result"
    }
   ],
   "source": [
    "len(x)"
   ]
  },
  {
   "cell_type": "code",
   "execution_count": 7,
   "id": "1cfe7eec",
   "metadata": {},
   "outputs": [
    {
     "data": {
      "text/plain": [
       "17"
      ]
     },
     "execution_count": 7,
     "metadata": {},
     "output_type": "execute_result"
    }
   ],
   "source": [
    "len(y)"
   ]
  },
  {
   "cell_type": "code",
   "execution_count": 8,
   "id": "dc452958",
   "metadata": {},
   "outputs": [],
   "source": [
    "import matplotlib.pyplot as plt"
   ]
  },
  {
   "cell_type": "code",
   "execution_count": 9,
   "id": "3105aff4",
   "metadata": {},
   "outputs": [
    {
     "data": {
      "image/png": "[encoded data removed]",
      "text/plain": [
       "<Figure size 432x288 with 1 Axes>"
      ]
     },
     "metadata": {
      "needs_background": "light"
     },
     "output_type": "display_data"
    }
   ],
   "source": [
    "plt.scatter(x,y)\n",
    "plt.show()"
   ]
  },
  {
   "cell_type": "code",
   "execution_count": 10,
   "id": "3e3aad88",
   "metadata": {},
   "outputs": [],
   "source": [
    "import numpy as np"
   ]
  },
  {
   "cell_type": "code",
   "execution_count": 11,
   "id": "16d3f250",
   "metadata": {},
   "outputs": [],
   "source": [
    "y_predicted=np.poly1d(np.polyfit(x,y,3))"
   ]
  },
  {
   "cell_type": "code",
   "execution_count": 12,
   "id": "e8528926",
   "metadata": {},
   "outputs": [
    {
     "data": {
      "text/plain": [
       "poly1d([ -0.16989164,   4.55598555, -33.00941692, 121.88235294])"
      ]
     },
     "execution_count": 12,
     "metadata": {},
     "output_type": "execute_result"
    }
   ],
   "source": [
    "y_predicted"
   ]
  },
  {
   "cell_type": "code",
   "execution_count": 13,
   "id": "63479794",
   "metadata": {},
   "outputs": [
    {
     "data": {
      "text/plain": [
       "array([ -0.16989164,   4.55598555, -33.00941692, 121.88235294])"
      ]
     },
     "execution_count": 13,
     "metadata": {},
     "output_type": "execute_result"
    }
   ],
   "source": [
    "y_predicted.coef"
   ]
  },
  {
   "cell_type": "code",
   "execution_count": 14,
   "id": "d09dd0f3",
   "metadata": {},
   "outputs": [
    {
     "data": {
      "text/plain": [
       "array([ 1.        ,  1.10738255,  1.2147651 ,  1.32214765,  1.4295302 ,\n",
       "        1.53691275,  1.6442953 ,  1.75167785,  1.8590604 ,  1.96644295,\n",
       "        2.0738255 ,  2.18120805,  2.2885906 ,  2.39597315,  2.5033557 ,\n",
       "        2.61073826,  2.71812081,  2.82550336,  2.93288591,  3.04026846,\n",
       "        3.14765101,  3.25503356,  3.36241611,  3.46979866,  3.57718121,\n",
       "        3.68456376,  3.79194631,  3.89932886,  4.00671141,  4.11409396,\n",
       "        4.22147651,  4.32885906,  4.43624161,  4.54362416,  4.65100671,\n",
       "        4.75838926,  4.86577181,  4.97315436,  5.08053691,  5.18791946,\n",
       "        5.29530201,  5.40268456,  5.51006711,  5.61744966,  5.72483221,\n",
       "        5.83221477,  5.93959732,  6.04697987,  6.15436242,  6.26174497,\n",
       "        6.36912752,  6.47651007,  6.58389262,  6.69127517,  6.79865772,\n",
       "        6.90604027,  7.01342282,  7.12080537,  7.22818792,  7.33557047,\n",
       "        7.44295302,  7.55033557,  7.65771812,  7.76510067,  7.87248322,\n",
       "        7.97986577,  8.08724832,  8.19463087,  8.30201342,  8.40939597,\n",
       "        8.51677852,  8.62416107,  8.73154362,  8.83892617,  8.94630872,\n",
       "        9.05369128,  9.16107383,  9.26845638,  9.37583893,  9.48322148,\n",
       "        9.59060403,  9.69798658,  9.80536913,  9.91275168, 10.02013423,\n",
       "       10.12751678, 10.23489933, 10.34228188, 10.44966443, 10.55704698,\n",
       "       10.66442953, 10.77181208, 10.87919463, 10.98657718, 11.09395973,\n",
       "       11.20134228, 11.30872483, 11.41610738, 11.52348993, 11.63087248,\n",
       "       11.73825503, 11.84563758, 11.95302013, 12.06040268, 12.16778523,\n",
       "       12.27516779, 12.38255034, 12.48993289, 12.59731544, 12.70469799,\n",
       "       12.81208054, 12.91946309, 13.02684564, 13.13422819, 13.24161074,\n",
       "       13.34899329, 13.45637584, 13.56375839, 13.67114094, 13.77852349,\n",
       "       13.88590604, 13.99328859, 14.10067114, 14.20805369, 14.31543624,\n",
       "       14.42281879, 14.53020134, 14.63758389, 14.74496644, 14.85234899,\n",
       "       14.95973154, 15.06711409, 15.17449664, 15.28187919, 15.38926174,\n",
       "       15.4966443 , 15.60402685, 15.7114094 , 15.81879195, 15.9261745 ,\n",
       "       16.03355705, 16.1409396 , 16.24832215, 16.3557047 , 16.46308725,\n",
       "       16.5704698 , 16.67785235, 16.7852349 , 16.89261745, 17.        ])"
      ]
     },
     "execution_count": 14,
     "metadata": {},
     "output_type": "execute_result"
    }
   ],
   "source": [
    "line = np.linspace(1,17,150)\n",
    "line"
   ]
  },
  {
   "cell_type": "code",
   "execution_count": 15,
   "id": "8920cba7",
   "metadata": {
    "scrolled": true
   },
   "outputs": [
    {
     "data": {
      "text/plain": [
       "array([93.25902993, 90.68457875, 88.20218149, 85.81057597, 83.5085    ,\n",
       "       81.29469139, 79.16788794, 77.12682747, 75.1702478 , 73.29688672,\n",
       "       71.50548206, 69.79477162, 68.16349322, 66.61038466, 65.13418376,\n",
       "       63.73362832, 62.40745616, 61.15440509, 59.97321293, 58.86261747,\n",
       "       57.82135653, 56.84816793, 55.94178947, 55.10095897, 54.32441423,\n",
       "       53.61089307, 52.9591333 , 52.36787273, 51.83584917, 51.36180042,\n",
       "       50.94446431, 50.58257864, 50.27488123, 50.02010988, 49.8170024 ,\n",
       "       49.66429661, 49.56073032, 49.50504134, 49.49596748, 49.53224655,\n",
       "       49.61261635, 49.73581472, 49.90057944, 50.10564834, 50.34975922,\n",
       "       50.6316499 , 50.95005819, 51.30372189, 51.69137883, 52.1117668 ,\n",
       "       52.56362362, 53.04568711, 53.55669507, 54.09538531, 54.66049565,\n",
       "       55.2507639 , 55.86492786, 56.50172534, 57.15989417, 57.83817215,\n",
       "       58.53529708, 59.25000679, 59.98103908, 60.72713177, 61.48702266,\n",
       "       62.25944956, 63.04315029, 63.83686266, 64.63932447, 65.44927355,\n",
       "       66.26544769, 67.08658472, 67.91142244, 68.73869866, 69.5671512 ,\n",
       "       70.39551786, 71.22253645, 72.0469448 , 72.8674807 , 73.68288197,\n",
       "       74.49188642, 75.29323186, 76.0856561 , 76.86789696, 77.63869224,\n",
       "       78.39677975, 79.14089731, 79.86978272, 80.58217381, 81.27680837,\n",
       "       81.95242422, 82.60775917, 83.24155103, 83.85253762, 84.43945674,\n",
       "       85.0010462 , 85.53604382, 86.0431874 , 86.52121476, 86.96886371,\n",
       "       87.38487206, 87.76797761, 88.11691819, 88.4304316 , 88.70725566,\n",
       "       88.94612817, 89.14578694, 89.30496979, 89.42241452, 89.49685895,\n",
       "       89.52704089, 89.51169816, 89.44956855, 89.33938988, 89.17989996,\n",
       "       88.96983661, 88.70793764, 88.39294085, 88.02358405, 87.59860506,\n",
       "       87.11674169, 86.57673175, 85.97731305, 85.3172234 , 84.59520062,\n",
       "       83.8099825 , 82.96030687, 82.04491154, 81.06253431, 80.011913  ,\n",
       "       78.89178542, 77.70088937, 76.43796268, 75.10174314, 73.69096858,\n",
       "       72.2043768 , 70.64070561, 68.99869283, 67.27707627, 65.47459373,\n",
       "       63.58998302, 61.62198197, 59.56932838, 57.43076005, 55.20501481,\n",
       "       52.89083046, 50.48694481, 47.99209568, 45.40502088, 42.7244582 ])"
      ]
     },
     "execution_count": 15,
     "metadata": {},
     "output_type": "execute_result"
    }
   ],
   "source": [
    "y_predicted(line)  # add all the  (line) values in y_predicted"
   ]
  },
  {
   "cell_type": "code",
   "execution_count": 16,
   "id": "071058e1",
   "metadata": {},
   "outputs": [],
   "source": [
    "model=y_predicted(line)"
   ]
  },
  {
   "cell_type": "code",
   "execution_count": 17,
   "id": "c7816e7a",
   "metadata": {},
   "outputs": [
    {
     "data": {
      "image/png": "[encoded data removed]",
      "text/plain": [
       "<Figure size 432x288 with 1 Axes>"
      ]
     },
     "metadata": {
      "needs_background": "light"
     },
     "output_type": "display_data"
    }
   ],
   "source": [
    "plt.scatter(x,y)\n",
    "plt.plot(line,model,color='r')\n",
    "plt.show()"
   ]
  },
  {
   "cell_type": "code",
   "execution_count": 18,
   "id": "94898e58",
   "metadata": {},
   "outputs": [
    {
     "data": {
      "text/plain": [
       "poly1d([ -0.16989164,   4.55598555, -33.00941692, 121.88235294])"
      ]
     },
     "execution_count": 18,
     "metadata": {},
     "output_type": "execute_result"
    }
   ],
   "source": [
    "new_y =  y_predicted\n",
    "new_y"
   ]
  },
  {
   "cell_type": "code",
   "execution_count": null,
   "id": "0e9cc3bd",
   "metadata": {},
   "outputs": [],
   "source": []
  },
  {
   "cell_type": "code",
   "execution_count": null,
   "id": "6cc18843",
   "metadata": {},
   "outputs": [],
   "source": [
    "#same examp sklearn madhun"
   ]
  },
  {
   "cell_type": "code",
   "execution_count": 20,
   "id": "1066f0fd",
   "metadata": {},
   "outputs": [
    {
     "data": {
      "text/plain": [
       "[1, 2, 3, 4, 5, 6, 7, 8, 9, 10, 11, 12, 13, 14, 15, 16, 17]"
      ]
     },
     "execution_count": 20,
     "metadata": {},
     "output_type": "execute_result"
    }
   ],
   "source": [
    "x"
   ]
  },
  {
   "cell_type": "code",
   "execution_count": 21,
   "id": "ec7670c5",
   "metadata": {},
   "outputs": [
    {
     "data": {
      "text/plain": [
       "[100, 60, 50, 60, 60, 55, 60, 65, 70, 70, 75, 76, 78, 90, 99, 99, 10]"
      ]
     },
     "execution_count": 21,
     "metadata": {},
     "output_type": "execute_result"
    }
   ],
   "source": [
    "y"
   ]
  },
  {
   "cell_type": "code",
   "execution_count": 22,
   "id": "6e34b0e8",
   "metadata": {},
   "outputs": [],
   "source": [
    "import pandas as pd"
   ]
  },
  {
   "cell_type": "code",
   "execution_count": 23,
   "id": "a2425cec",
   "metadata": {},
   "outputs": [
    {
     "data": {
      "text/plain": [
       "0      1\n",
       "1      2\n",
       "2      3\n",
       "3      4\n",
       "4      5\n",
       "5      6\n",
       "6      7\n",
       "7      8\n",
       "8      9\n",
       "9     10\n",
       "10    11\n",
       "11    12\n",
       "12    13\n",
       "13    14\n",
       "14    15\n",
       "15    16\n",
       "16    17\n",
       "Name: Time, dtype: int64"
      ]
     },
     "execution_count": 23,
     "metadata": {},
     "output_type": "execute_result"
    }
   ],
   "source": [
    "s1=pd.Series(x,name='Time')\n",
    "s1"
   ]
  },
  {
   "cell_type": "code",
   "execution_count": 24,
   "id": "94a63b02",
   "metadata": {},
   "outputs": [
    {
     "data": {
      "text/plain": [
       "0     100\n",
       "1      60\n",
       "2      50\n",
       "3      60\n",
       "4      60\n",
       "5      55\n",
       "6      60\n",
       "7      65\n",
       "8      70\n",
       "9      70\n",
       "10     75\n",
       "11     76\n",
       "12     78\n",
       "13     90\n",
       "14     99\n",
       "15     99\n",
       "16     10\n",
       "Name: speed, dtype: int64"
      ]
     },
     "execution_count": 24,
     "metadata": {},
     "output_type": "execute_result"
    }
   ],
   "source": [
    "s2=pd.Series(y,name='speed')\n",
    "s2"
   ]
  },
  {
   "cell_type": "code",
   "execution_count": 25,
   "id": "fd535588",
   "metadata": {},
   "outputs": [],
   "source": [
    "df=pd.concat([s1,s2],axis=1)"
   ]
  },
  {
   "cell_type": "code",
   "execution_count": 26,
   "id": "393cc470",
   "metadata": {
    "scrolled": true
   },
   "outputs": [
    {
     "data": {
      "text/html": [
       "<div>\n",
       "<style scoped>\n",
       "    .dataframe tbody tr th:only-of-type {\n",
       "        vertical-align: middle;\n",
       "    }\n",
       "\n",
       "    .dataframe tbody tr th {\n",
       "        vertical-align: top;\n",
       "    }\n",
       "\n",
       "    .dataframe thead th {\n",
       "        text-align: right;\n",
       "    }\n",
       "</style>\n",
       "<table border=\"1\" class=\"dataframe\">\n",
       "  <thead>\n",
       "    <tr style=\"text-align: right;\">\n",
       "      <th></th>\n",
       "      <th>Time</th>\n",
       "      <th>speed</th>\n",
       "    </tr>\n",
       "  </thead>\n",
       "  <tbody>\n",
       "    <tr>\n",
       "      <th>0</th>\n",
       "      <td>1</td>\n",
       "      <td>100</td>\n",
       "    </tr>\n",
       "    <tr>\n",
       "      <th>1</th>\n",
       "      <td>2</td>\n",
       "      <td>60</td>\n",
       "    </tr>\n",
       "    <tr>\n",
       "      <th>2</th>\n",
       "      <td>3</td>\n",
       "      <td>50</td>\n",
       "    </tr>\n",
       "    <tr>\n",
       "      <th>3</th>\n",
       "      <td>4</td>\n",
       "      <td>60</td>\n",
       "    </tr>\n",
       "    <tr>\n",
       "      <th>4</th>\n",
       "      <td>5</td>\n",
       "      <td>60</td>\n",
       "    </tr>\n",
       "    <tr>\n",
       "      <th>5</th>\n",
       "      <td>6</td>\n",
       "      <td>55</td>\n",
       "    </tr>\n",
       "    <tr>\n",
       "      <th>6</th>\n",
       "      <td>7</td>\n",
       "      <td>60</td>\n",
       "    </tr>\n",
       "    <tr>\n",
       "      <th>7</th>\n",
       "      <td>8</td>\n",
       "      <td>65</td>\n",
       "    </tr>\n",
       "    <tr>\n",
       "      <th>8</th>\n",
       "      <td>9</td>\n",
       "      <td>70</td>\n",
       "    </tr>\n",
       "    <tr>\n",
       "      <th>9</th>\n",
       "      <td>10</td>\n",
       "      <td>70</td>\n",
       "    </tr>\n",
       "    <tr>\n",
       "      <th>10</th>\n",
       "      <td>11</td>\n",
       "      <td>75</td>\n",
       "    </tr>\n",
       "    <tr>\n",
       "      <th>11</th>\n",
       "      <td>12</td>\n",
       "      <td>76</td>\n",
       "    </tr>\n",
       "    <tr>\n",
       "      <th>12</th>\n",
       "      <td>13</td>\n",
       "      <td>78</td>\n",
       "    </tr>\n",
       "    <tr>\n",
       "      <th>13</th>\n",
       "      <td>14</td>\n",
       "      <td>90</td>\n",
       "    </tr>\n",
       "    <tr>\n",
       "      <th>14</th>\n",
       "      <td>15</td>\n",
       "      <td>99</td>\n",
       "    </tr>\n",
       "    <tr>\n",
       "      <th>15</th>\n",
       "      <td>16</td>\n",
       "      <td>99</td>\n",
       "    </tr>\n",
       "    <tr>\n",
       "      <th>16</th>\n",
       "      <td>17</td>\n",
       "      <td>10</td>\n",
       "    </tr>\n",
       "  </tbody>\n",
       "</table>\n",
       "</div>"
      ],
      "text/plain": [
       "    Time  speed\n",
       "0      1    100\n",
       "1      2     60\n",
       "2      3     50\n",
       "3      4     60\n",
       "4      5     60\n",
       "5      6     55\n",
       "6      7     60\n",
       "7      8     65\n",
       "8      9     70\n",
       "9     10     70\n",
       "10    11     75\n",
       "11    12     76\n",
       "12    13     78\n",
       "13    14     90\n",
       "14    15     99\n",
       "15    16     99\n",
       "16    17     10"
      ]
     },
     "execution_count": 26,
     "metadata": {},
     "output_type": "execute_result"
    }
   ],
   "source": [
    "df"
   ]
  },
  {
   "cell_type": "code",
   "execution_count": 27,
   "id": "8378595e",
   "metadata": {},
   "outputs": [
    {
     "data": {
      "text/html": [
       "<div>\n",
       "<style scoped>\n",
       "    .dataframe tbody tr th:only-of-type {\n",
       "        vertical-align: middle;\n",
       "    }\n",
       "\n",
       "    .dataframe tbody tr th {\n",
       "        vertical-align: top;\n",
       "    }\n",
       "\n",
       "    .dataframe thead th {\n",
       "        text-align: right;\n",
       "    }\n",
       "</style>\n",
       "<table border=\"1\" class=\"dataframe\">\n",
       "  <thead>\n",
       "    <tr style=\"text-align: right;\">\n",
       "      <th></th>\n",
       "      <th>Time</th>\n",
       "    </tr>\n",
       "  </thead>\n",
       "  <tbody>\n",
       "    <tr>\n",
       "      <th>0</th>\n",
       "      <td>1</td>\n",
       "    </tr>\n",
       "    <tr>\n",
       "      <th>1</th>\n",
       "      <td>2</td>\n",
       "    </tr>\n",
       "    <tr>\n",
       "      <th>2</th>\n",
       "      <td>3</td>\n",
       "    </tr>\n",
       "    <tr>\n",
       "      <th>3</th>\n",
       "      <td>4</td>\n",
       "    </tr>\n",
       "    <tr>\n",
       "      <th>4</th>\n",
       "      <td>5</td>\n",
       "    </tr>\n",
       "    <tr>\n",
       "      <th>5</th>\n",
       "      <td>6</td>\n",
       "    </tr>\n",
       "    <tr>\n",
       "      <th>6</th>\n",
       "      <td>7</td>\n",
       "    </tr>\n",
       "    <tr>\n",
       "      <th>7</th>\n",
       "      <td>8</td>\n",
       "    </tr>\n",
       "    <tr>\n",
       "      <th>8</th>\n",
       "      <td>9</td>\n",
       "    </tr>\n",
       "    <tr>\n",
       "      <th>9</th>\n",
       "      <td>10</td>\n",
       "    </tr>\n",
       "    <tr>\n",
       "      <th>10</th>\n",
       "      <td>11</td>\n",
       "    </tr>\n",
       "    <tr>\n",
       "      <th>11</th>\n",
       "      <td>12</td>\n",
       "    </tr>\n",
       "    <tr>\n",
       "      <th>12</th>\n",
       "      <td>13</td>\n",
       "    </tr>\n",
       "    <tr>\n",
       "      <th>13</th>\n",
       "      <td>14</td>\n",
       "    </tr>\n",
       "    <tr>\n",
       "      <th>14</th>\n",
       "      <td>15</td>\n",
       "    </tr>\n",
       "    <tr>\n",
       "      <th>15</th>\n",
       "      <td>16</td>\n",
       "    </tr>\n",
       "    <tr>\n",
       "      <th>16</th>\n",
       "      <td>17</td>\n",
       "    </tr>\n",
       "  </tbody>\n",
       "</table>\n",
       "</div>"
      ],
      "text/plain": [
       "    Time\n",
       "0      1\n",
       "1      2\n",
       "2      3\n",
       "3      4\n",
       "4      5\n",
       "5      6\n",
       "6      7\n",
       "7      8\n",
       "8      9\n",
       "9     10\n",
       "10    11\n",
       "11    12\n",
       "12    13\n",
       "13    14\n",
       "14    15\n",
       "15    16\n",
       "16    17"
      ]
     },
     "execution_count": 27,
     "metadata": {},
     "output_type": "execute_result"
    }
   ],
   "source": [
    "df[['Time']]"
   ]
  },
  {
   "cell_type": "code",
   "execution_count": 28,
   "id": "f1c7425e",
   "metadata": {},
   "outputs": [],
   "source": [
    "from sklearn.preprocessing import PolynomialFeatures"
   ]
  },
  {
   "cell_type": "code",
   "execution_count": 29,
   "id": "10ccbe81",
   "metadata": {},
   "outputs": [],
   "source": [
    "pf = PolynomialFeatures()"
   ]
  },
  {
   "cell_type": "code",
   "execution_count": 30,
   "id": "d58ce0c2",
   "metadata": {},
   "outputs": [
    {
     "data": {
      "text/plain": [
       "array([[  1.,   1.,   1.],\n",
       "       [  1.,   2.,   4.],\n",
       "       [  1.,   3.,   9.],\n",
       "       [  1.,   4.,  16.],\n",
       "       [  1.,   5.,  25.],\n",
       "       [  1.,   6.,  36.],\n",
       "       [  1.,   7.,  49.],\n",
       "       [  1.,   8.,  64.],\n",
       "       [  1.,   9.,  81.],\n",
       "       [  1.,  10., 100.],\n",
       "       [  1.,  11., 121.],\n",
       "       [  1.,  12., 144.],\n",
       "       [  1.,  13., 169.],\n",
       "       [  1.,  14., 196.],\n",
       "       [  1.,  15., 225.],\n",
       "       [  1.,  16., 256.],\n",
       "       [  1.,  17., 289.]])"
      ]
     },
     "execution_count": 30,
     "metadata": {},
     "output_type": "execute_result"
    }
   ],
   "source": [
    "pf.fit_transform(df[['Time']])"
   ]
  },
  {
   "cell_type": "code",
   "execution_count": 31,
   "id": "afc04f60",
   "metadata": {},
   "outputs": [],
   "source": [
    "from sklearn.linear_model import LinearRegression"
   ]
  },
  {
   "cell_type": "code",
   "execution_count": 32,
   "id": "210f085d",
   "metadata": {},
   "outputs": [],
   "source": [
    "model=LinearRegression()"
   ]
  },
  {
   "cell_type": "code",
   "execution_count": 48,
   "id": "4b69390a",
   "metadata": {},
   "outputs": [],
   "source": [
    "x1=pf.fit_transform(df[['Time']])"
   ]
  },
  {
   "cell_type": "code",
   "execution_count": 34,
   "id": "6c97f163",
   "metadata": {},
   "outputs": [
    {
     "data": {
      "text/plain": [
       "LinearRegression()"
      ]
     },
     "execution_count": 34,
     "metadata": {},
     "output_type": "execute_result"
    }
   ],
   "source": [
    "model.fit(x1,df.speed)"
   ]
  },
  {
   "cell_type": "code",
   "execution_count": 35,
   "id": "115915f9",
   "metadata": {},
   "outputs": [
    {
     "data": {
      "text/plain": [
       "array([ 0.        ,  0.96891125, -0.03108875])"
      ]
     },
     "execution_count": 35,
     "metadata": {},
     "output_type": "execute_result"
    }
   ],
   "source": [
    "model.coef_"
   ]
  },
  {
   "cell_type": "code",
   "execution_count": 36,
   "id": "e2a02819",
   "metadata": {},
   "outputs": [],
   "source": [
    "coef=model.coef_"
   ]
  },
  {
   "cell_type": "code",
   "execution_count": 37,
   "id": "8a35d929",
   "metadata": {},
   "outputs": [
    {
     "data": {
      "text/plain": [
       "array([ 0.        ,  0.96891125, -0.03108875])"
      ]
     },
     "execution_count": 37,
     "metadata": {},
     "output_type": "execute_result"
    }
   ],
   "source": [
    "coef"
   ]
  },
  {
   "cell_type": "code",
   "execution_count": 38,
   "id": "220ee583",
   "metadata": {},
   "outputs": [],
   "source": [
    "intercept=model.intercept_"
   ]
  },
  {
   "cell_type": "code",
   "execution_count": 39,
   "id": "f451b021",
   "metadata": {},
   "outputs": [
    {
     "data": {
      "text/plain": [
       "63.77941176470587"
      ]
     },
     "execution_count": 39,
     "metadata": {},
     "output_type": "execute_result"
    }
   ],
   "source": [
    "intercept"
   ]
  },
  {
   "cell_type": "code",
   "execution_count": 40,
   "id": "df1e8be2",
   "metadata": {},
   "outputs": [
    {
     "data": {
      "text/plain": [
       "array([ 1.        ,  1.10738255,  1.2147651 ,  1.32214765,  1.4295302 ,\n",
       "        1.53691275,  1.6442953 ,  1.75167785,  1.8590604 ,  1.96644295,\n",
       "        2.0738255 ,  2.18120805,  2.2885906 ,  2.39597315,  2.5033557 ,\n",
       "        2.61073826,  2.71812081,  2.82550336,  2.93288591,  3.04026846,\n",
       "        3.14765101,  3.25503356,  3.36241611,  3.46979866,  3.57718121,\n",
       "        3.68456376,  3.79194631,  3.89932886,  4.00671141,  4.11409396,\n",
       "        4.22147651,  4.32885906,  4.43624161,  4.54362416,  4.65100671,\n",
       "        4.75838926,  4.86577181,  4.97315436,  5.08053691,  5.18791946,\n",
       "        5.29530201,  5.40268456,  5.51006711,  5.61744966,  5.72483221,\n",
       "        5.83221477,  5.93959732,  6.04697987,  6.15436242,  6.26174497,\n",
       "        6.36912752,  6.47651007,  6.58389262,  6.69127517,  6.79865772,\n",
       "        6.90604027,  7.01342282,  7.12080537,  7.22818792,  7.33557047,\n",
       "        7.44295302,  7.55033557,  7.65771812,  7.76510067,  7.87248322,\n",
       "        7.97986577,  8.08724832,  8.19463087,  8.30201342,  8.40939597,\n",
       "        8.51677852,  8.62416107,  8.73154362,  8.83892617,  8.94630872,\n",
       "        9.05369128,  9.16107383,  9.26845638,  9.37583893,  9.48322148,\n",
       "        9.59060403,  9.69798658,  9.80536913,  9.91275168, 10.02013423,\n",
       "       10.12751678, 10.23489933, 10.34228188, 10.44966443, 10.55704698,\n",
       "       10.66442953, 10.77181208, 10.87919463, 10.98657718, 11.09395973,\n",
       "       11.20134228, 11.30872483, 11.41610738, 11.52348993, 11.63087248,\n",
       "       11.73825503, 11.84563758, 11.95302013, 12.06040268, 12.16778523,\n",
       "       12.27516779, 12.38255034, 12.48993289, 12.59731544, 12.70469799,\n",
       "       12.81208054, 12.91946309, 13.02684564, 13.13422819, 13.24161074,\n",
       "       13.34899329, 13.45637584, 13.56375839, 13.67114094, 13.77852349,\n",
       "       13.88590604, 13.99328859, 14.10067114, 14.20805369, 14.31543624,\n",
       "       14.42281879, 14.53020134, 14.63758389, 14.74496644, 14.85234899,\n",
       "       14.95973154, 15.06711409, 15.17449664, 15.28187919, 15.38926174,\n",
       "       15.4966443 , 15.60402685, 15.7114094 , 15.81879195, 15.9261745 ,\n",
       "       16.03355705, 16.1409396 , 16.24832215, 16.3557047 , 16.46308725,\n",
       "       16.5704698 , 16.67785235, 16.7852349 , 16.89261745, 17.        ])"
      ]
     },
     "execution_count": 40,
     "metadata": {},
     "output_type": "execute_result"
    }
   ],
   "source": [
    "line=np.linspace(1,17,150)\n",
    "line"
   ]
  },
  {
   "cell_type": "code",
   "execution_count": 41,
   "id": "16e1a6f9",
   "metadata": {},
   "outputs": [],
   "source": [
    "y_predicted= intercept + line*coef[1] + coef[2]*line**2"
   ]
  },
  {
   "cell_type": "code",
   "execution_count": 42,
   "id": "2b4000cc",
   "metadata": {},
   "outputs": [
    {
     "data": {
      "text/plain": [
       "array([64.71723426, 64.81424316, 64.91053509, 65.00611005, 65.10096803,\n",
       "       65.19510905, 65.2885331 , 65.38124018, 65.47323029, 65.56450344,\n",
       "       65.65505961, 65.74489881, 65.83402104, 65.9224263 , 66.0101146 ,\n",
       "       66.09708592, 66.18334028, 66.26887766, 66.35369808, 66.43780152,\n",
       "       66.521188  , 66.6038575 , 66.68581004, 66.76704561, 66.84756421,\n",
       "       66.92736584, 67.00645049, 67.08481818, 67.1624689 , 67.23940265,\n",
       "       67.31561944, 67.39111925, 67.46590209, 67.53996796, 67.61331686,\n",
       "       67.6859488 , 67.75786376, 67.82906175, 67.89954278, 67.96930683,\n",
       "       68.03835392, 68.10668403, 68.17429718, 68.24119336, 68.30737257,\n",
       "       68.3728348 , 68.43758007, 68.50160837, 68.5649197 , 68.62751406,\n",
       "       68.68939145, 68.75055187, 68.81099532, 68.8707218 , 68.92973131,\n",
       "       68.98802386, 69.04559943, 69.10245803, 69.15859967, 69.21402433,\n",
       "       69.26873203, 69.32272275, 69.37599651, 69.42855329, 69.48039311,\n",
       "       69.53151596, 69.58192183, 69.63161074, 69.68058268, 69.72883765,\n",
       "       69.77637565, 69.82319668, 69.86930074, 69.91468783, 69.95935795,\n",
       "       70.0033111 , 70.04654729, 70.0890665 , 70.13086874, 70.17195401,\n",
       "       70.21232232, 70.25197365, 70.29090802, 70.32912541, 70.36662584,\n",
       "       70.4034093 , 70.43947578, 70.4748253 , 70.50945785, 70.54337343,\n",
       "       70.57657203, 70.60905367, 70.64081834, 70.67186604, 70.70219677,\n",
       "       70.73181054, 70.76070733, 70.78888715, 70.81635   , 70.84309588,\n",
       "       70.8691248 , 70.89443674, 70.91903172, 70.94290972, 70.96607076,\n",
       "       70.98851482, 71.01024192, 71.03125204, 71.0515452 , 71.07112139,\n",
       "       71.08998061, 71.10812285, 71.12554813, 71.14225644, 71.15824778,\n",
       "       71.17352215, 71.18807955, 71.20191999, 71.21504345, 71.22744994,\n",
       "       71.23913946, 71.25011201, 71.2603676 , 71.26990621, 71.27872786,\n",
       "       71.28683253, 71.29422024, 71.30089097, 71.30684474, 71.31208154,\n",
       "       71.31660136, 71.32040422, 71.32349011, 71.32585903, 71.32751098,\n",
       "       71.32844596, 71.32866397, 71.32816501, 71.32694908, 71.32501618,\n",
       "       71.32236631, 71.31899947, 71.31491567, 71.31011489, 71.30459714,\n",
       "       71.29836243, 71.29141074, 71.28374209, 71.27535646, 71.26625387])"
      ]
     },
     "execution_count": 42,
     "metadata": {},
     "output_type": "execute_result"
    }
   ],
   "source": [
    "y_predicted"
   ]
  },
  {
   "cell_type": "code",
   "execution_count": 43,
   "id": "ef72df36",
   "metadata": {},
   "outputs": [
    {
     "data": {
      "image/png": "[encoded data removed]",
      "text/plain": [
       "<Figure size 432x288 with 1 Axes>"
      ]
     },
     "metadata": {
      "needs_background": "light"
     },
     "output_type": "display_data"
    }
   ],
   "source": [
    "plt.scatter(x,y)\n",
    "plt.plot(line,y_predicted,color='r')\n",
    "plt.show()"
   ]
  },
  {
   "cell_type": "code",
   "execution_count": 44,
   "id": "8a87ac79",
   "metadata": {},
   "outputs": [],
   "source": [
    "y_pred=model.predict(x1)"
   ]
  },
  {
   "cell_type": "code",
   "execution_count": 45,
   "id": "8a874ffc",
   "metadata": {
    "scrolled": true
   },
   "outputs": [
    {
     "data": {
      "text/plain": [
       "array([64.71723426, 65.59287926, 66.40634675, 67.15763674, 67.84674923,\n",
       "       68.47368421, 69.03844169, 69.54102167, 69.98142415, 70.35964912,\n",
       "       70.67569659, 70.92956656, 71.12125903, 71.25077399, 71.31811146,\n",
       "       71.32327141, 71.26625387])"
      ]
     },
     "execution_count": 45,
     "metadata": {},
     "output_type": "execute_result"
    }
   ],
   "source": [
    "y_pred"
   ]
  },
  {
   "cell_type": "code",
   "execution_count": 46,
   "id": "5308e680",
   "metadata": {},
   "outputs": [],
   "source": [
    "import numpy as np"
   ]
  },
  {
   "cell_type": "code",
   "execution_count": 47,
   "id": "fdb0ff0f",
   "metadata": {},
   "outputs": [
    {
     "data": {
      "text/plain": [
       "0.009790526049368142"
      ]
     },
     "execution_count": 47,
     "metadata": {},
     "output_type": "execute_result"
    }
   ],
   "source": [
    "model.score(x1,df['speed'])"
   ]
  },
  {
   "cell_type": "code",
   "execution_count": null,
   "id": "32437b05",
   "metadata": {},
   "outputs": [],
   "source": []
  },
  {
   "cell_type": "code",
   "execution_count": null,
   "id": "ddfb4134",
   "metadata": {},
   "outputs": [],
   "source": []
  },
  {
   "cell_type": "code",
   "execution_count": null,
   "id": "fa2f5d2c",
   "metadata": {},
   "outputs": [],
   "source": []
  },
  {
   "cell_type": "code",
   "execution_count": null,
   "id": "ea17ad09",
   "metadata": {},
   "outputs": [],
   "source": []
  },
  {
   "cell_type": "code",
   "execution_count": null,
   "id": "4347d32b",
   "metadata": {},
   "outputs": [],
   "source": []
  }
 ],
 "metadata": {
  "kernelspec": {
   "display_name": "Python 3 (ipykernel)",
   "language": "python",
   "name": "python3"
  },
  "language_info": {
   "codemirror_mode": {
    "name": "ipython",
    "version": 3
   },
   "file_extension": ".py",
   "mimetype": "text/x-python",
   "name": "python",
   "nbconvert_exporter": "python",
   "pygments_lexer": "ipython3",
   "version": "3.9.7"
  }
 },
 "nbformat": 4,
 "nbformat_minor": 5
}
