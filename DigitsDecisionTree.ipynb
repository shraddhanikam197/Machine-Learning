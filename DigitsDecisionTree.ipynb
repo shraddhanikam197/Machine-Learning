{
 "cells": [
  {
   "cell_type": "code",
   "execution_count": 1,
   "id": "fff8afdf",
   "metadata": {},
   "outputs": [],
   "source": [
    "import pandas as pd\n",
    "import numpy as np\n",
    "import matplotlib.pyplot as plt\n",
    "from sklearn.linear_model import LogisticRegression\n",
    "from sklearn.metrics import confusion_matrix"
   ]
  },
  {
   "cell_type": "code",
   "execution_count": 2,
   "id": "6f8b5b2b",
   "metadata": {},
   "outputs": [],
   "source": [
    "from sklearn.datasets import load_digits"
   ]
  },
  {
   "cell_type": "code",
   "execution_count": 3,
   "id": "a0e3c0b3",
   "metadata": {},
   "outputs": [],
   "source": [
    "digits = load_digits()"
   ]
  },
  {
   "cell_type": "code",
   "execution_count": 4,
   "id": "7926da82",
   "metadata": {},
   "outputs": [
    {
     "data": {
      "text/plain": [
       "{'data': array([[ 0.,  0.,  5., ...,  0.,  0.,  0.],\n",
       "        [ 0.,  0.,  0., ..., 10.,  0.,  0.],\n",
       "        [ 0.,  0.,  0., ..., 16.,  9.,  0.],\n",
       "        ...,\n",
       "        [ 0.,  0.,  1., ...,  6.,  0.,  0.],\n",
       "        [ 0.,  0.,  2., ..., 12.,  0.,  0.],\n",
       "        [ 0.,  0., 10., ..., 12.,  1.,  0.]]),\n",
       " 'target': array([0, 1, 2, ..., 8, 9, 8]),\n",
       " 'frame': None,\n",
       " 'feature_names': ['pixel_0_0',\n",
       "  'pixel_0_1',\n",
       "  'pixel_0_2',\n",
       "  'pixel_0_3',\n",
       "  'pixel_0_4',\n",
       "  'pixel_0_5',\n",
       "  'pixel_0_6',\n",
       "  'pixel_0_7',\n",
       "  'pixel_1_0',\n",
       "  'pixel_1_1',\n",
       "  'pixel_1_2',\n",
       "  'pixel_1_3',\n",
       "  'pixel_1_4',\n",
       "  'pixel_1_5',\n",
       "  'pixel_1_6',\n",
       "  'pixel_1_7',\n",
       "  'pixel_2_0',\n",
       "  'pixel_2_1',\n",
       "  'pixel_2_2',\n",
       "  'pixel_2_3',\n",
       "  'pixel_2_4',\n",
       "  'pixel_2_5',\n",
       "  'pixel_2_6',\n",
       "  'pixel_2_7',\n",
       "  'pixel_3_0',\n",
       "  'pixel_3_1',\n",
       "  'pixel_3_2',\n",
       "  'pixel_3_3',\n",
       "  'pixel_3_4',\n",
       "  'pixel_3_5',\n",
       "  'pixel_3_6',\n",
       "  'pixel_3_7',\n",
       "  'pixel_4_0',\n",
       "  'pixel_4_1',\n",
       "  'pixel_4_2',\n",
       "  'pixel_4_3',\n",
       "  'pixel_4_4',\n",
       "  'pixel_4_5',\n",
       "  'pixel_4_6',\n",
       "  'pixel_4_7',\n",
       "  'pixel_5_0',\n",
       "  'pixel_5_1',\n",
       "  'pixel_5_2',\n",
       "  'pixel_5_3',\n",
       "  'pixel_5_4',\n",
       "  'pixel_5_5',\n",
       "  'pixel_5_6',\n",
       "  'pixel_5_7',\n",
       "  'pixel_6_0',\n",
       "  'pixel_6_1',\n",
       "  'pixel_6_2',\n",
       "  'pixel_6_3',\n",
       "  'pixel_6_4',\n",
       "  'pixel_6_5',\n",
       "  'pixel_6_6',\n",
       "  'pixel_6_7',\n",
       "  'pixel_7_0',\n",
       "  'pixel_7_1',\n",
       "  'pixel_7_2',\n",
       "  'pixel_7_3',\n",
       "  'pixel_7_4',\n",
       "  'pixel_7_5',\n",
       "  'pixel_7_6',\n",
       "  'pixel_7_7'],\n",
       " 'target_names': array([0, 1, 2, 3, 4, 5, 6, 7, 8, 9]),\n",
       " 'images': array([[[ 0.,  0.,  5., ...,  1.,  0.,  0.],\n",
       "         [ 0.,  0., 13., ..., 15.,  5.,  0.],\n",
       "         [ 0.,  3., 15., ..., 11.,  8.,  0.],\n",
       "         ...,\n",
       "         [ 0.,  4., 11., ..., 12.,  7.,  0.],\n",
       "         [ 0.,  2., 14., ..., 12.,  0.,  0.],\n",
       "         [ 0.,  0.,  6., ...,  0.,  0.,  0.]],\n",
       " \n",
       "        [[ 0.,  0.,  0., ...,  5.,  0.,  0.],\n",
       "         [ 0.,  0.,  0., ...,  9.,  0.,  0.],\n",
       "         [ 0.,  0.,  3., ...,  6.,  0.,  0.],\n",
       "         ...,\n",
       "         [ 0.,  0.,  1., ...,  6.,  0.,  0.],\n",
       "         [ 0.,  0.,  1., ...,  6.,  0.,  0.],\n",
       "         [ 0.,  0.,  0., ..., 10.,  0.,  0.]],\n",
       " \n",
       "        [[ 0.,  0.,  0., ..., 12.,  0.,  0.],\n",
       "         [ 0.,  0.,  3., ..., 14.,  0.,  0.],\n",
       "         [ 0.,  0.,  8., ..., 16.,  0.,  0.],\n",
       "         ...,\n",
       "         [ 0.,  9., 16., ...,  0.,  0.,  0.],\n",
       "         [ 0.,  3., 13., ..., 11.,  5.,  0.],\n",
       "         [ 0.,  0.,  0., ..., 16.,  9.,  0.]],\n",
       " \n",
       "        ...,\n",
       " \n",
       "        [[ 0.,  0.,  1., ...,  1.,  0.,  0.],\n",
       "         [ 0.,  0., 13., ...,  2.,  1.,  0.],\n",
       "         [ 0.,  0., 16., ..., 16.,  5.,  0.],\n",
       "         ...,\n",
       "         [ 0.,  0., 16., ..., 15.,  0.,  0.],\n",
       "         [ 0.,  0., 15., ..., 16.,  0.,  0.],\n",
       "         [ 0.,  0.,  2., ...,  6.,  0.,  0.]],\n",
       " \n",
       "        [[ 0.,  0.,  2., ...,  0.,  0.,  0.],\n",
       "         [ 0.,  0., 14., ..., 15.,  1.,  0.],\n",
       "         [ 0.,  4., 16., ..., 16.,  7.,  0.],\n",
       "         ...,\n",
       "         [ 0.,  0.,  0., ..., 16.,  2.,  0.],\n",
       "         [ 0.,  0.,  4., ..., 16.,  2.,  0.],\n",
       "         [ 0.,  0.,  5., ..., 12.,  0.,  0.]],\n",
       " \n",
       "        [[ 0.,  0., 10., ...,  1.,  0.,  0.],\n",
       "         [ 0.,  2., 16., ...,  1.,  0.,  0.],\n",
       "         [ 0.,  0., 15., ..., 15.,  0.,  0.],\n",
       "         ...,\n",
       "         [ 0.,  4., 16., ..., 16.,  6.,  0.],\n",
       "         [ 0.,  8., 16., ..., 16.,  8.,  0.],\n",
       "         [ 0.,  1.,  8., ..., 12.,  1.,  0.]]]),\n",
       " 'DESCR': \".. _digits_dataset:\\n\\nOptical recognition of handwritten digits dataset\\n--------------------------------------------------\\n\\n**Data Set Characteristics:**\\n\\n    :Number of Instances: 1797\\n    :Number of Attributes: 64\\n    :Attribute Information: 8x8 image of integer pixels in the range 0..16.\\n    :Missing Attribute Values: None\\n    :Creator: E. Alpaydin (alpaydin '@' boun.edu.tr)\\n    :Date: July; 1998\\n\\nThis is a copy of the test set of the UCI ML hand-written digits datasets\\nhttps://archive.ics.uci.edu/ml/datasets/Optical+Recognition+of+Handwritten+Digits\\n\\nThe data set contains images of hand-written digits: 10 classes where\\neach class refers to a digit.\\n\\nPreprocessing programs made available by NIST were used to extract\\nnormalized bitmaps of handwritten digits from a preprinted form. From a\\ntotal of 43 people, 30 contributed to the training set and different 13\\nto the test set. 32x32 bitmaps are divided into nonoverlapping blocks of\\n4x4 and the number of on pixels are counted in each block. This generates\\nan input matrix of 8x8 where each element is an integer in the range\\n0..16. This reduces dimensionality and gives invariance to small\\ndistortions.\\n\\nFor info on NIST preprocessing routines, see M. D. Garris, J. L. Blue, G.\\nT. Candela, D. L. Dimmick, J. Geist, P. J. Grother, S. A. Janet, and C.\\nL. Wilson, NIST Form-Based Handprint Recognition System, NISTIR 5469,\\n1994.\\n\\n.. topic:: References\\n\\n  - C. Kaynak (1995) Methods of Combining Multiple Classifiers and Their\\n    Applications to Handwritten Digit Recognition, MSc Thesis, Institute of\\n    Graduate Studies in Science and Engineering, Bogazici University.\\n  - E. Alpaydin, C. Kaynak (1998) Cascading Classifiers, Kybernetika.\\n  - Ken Tang and Ponnuthurai N. Suganthan and Xi Yao and A. Kai Qin.\\n    Linear dimensionalityreduction using relevance weighted LDA. School of\\n    Electrical and Electronic Engineering Nanyang Technological University.\\n    2005.\\n  - Claudio Gentile. A New Approximate Maximal Margin Classification\\n    Algorithm. NIPS. 2000.\\n\"}"
      ]
     },
     "execution_count": 4,
     "metadata": {},
     "output_type": "execute_result"
    }
   ],
   "source": [
    "digits"
   ]
  },
  {
   "cell_type": "code",
   "execution_count": 5,
   "id": "221e64b9",
   "metadata": {},
   "outputs": [
    {
     "data": {
      "text/plain": [
       "['DESCR', 'data', 'feature_names', 'frame', 'images', 'target', 'target_names']"
      ]
     },
     "execution_count": 5,
     "metadata": {},
     "output_type": "execute_result"
    }
   ],
   "source": [
    "dir(digits)"
   ]
  },
  {
   "cell_type": "code",
   "execution_count": 6,
   "id": "f297192f",
   "metadata": {},
   "outputs": [
    {
     "data": {
      "text/plain": [
       "array([[ 0.,  0.,  5., ...,  0.,  0.,  0.],\n",
       "       [ 0.,  0.,  0., ..., 10.,  0.,  0.],\n",
       "       [ 0.,  0.,  0., ..., 16.,  9.,  0.],\n",
       "       ...,\n",
       "       [ 0.,  0.,  1., ...,  6.,  0.,  0.],\n",
       "       [ 0.,  0.,  2., ..., 12.,  0.,  0.],\n",
       "       [ 0.,  0., 10., ..., 12.,  1.,  0.]])"
      ]
     },
     "execution_count": 6,
     "metadata": {},
     "output_type": "execute_result"
    }
   ],
   "source": [
    "digits.data"
   ]
  },
  {
   "cell_type": "code",
   "execution_count": 7,
   "id": "feafd8c9",
   "metadata": {},
   "outputs": [],
   "source": [
    "df = pd.DataFrame(digits.data)"
   ]
  },
  {
   "cell_type": "code",
   "execution_count": 8,
   "id": "469c5f26",
   "metadata": {},
   "outputs": [
    {
     "data": {
      "text/html": [
       "<div>\n",
       "<style scoped>\n",
       "    .dataframe tbody tr th:only-of-type {\n",
       "        vertical-align: middle;\n",
       "    }\n",
       "\n",
       "    .dataframe tbody tr th {\n",
       "        vertical-align: top;\n",
       "    }\n",
       "\n",
       "    .dataframe thead th {\n",
       "        text-align: right;\n",
       "    }\n",
       "</style>\n",
       "<table border=\"1\" class=\"dataframe\">\n",
       "  <thead>\n",
       "    <tr style=\"text-align: right;\">\n",
       "      <th></th>\n",
       "      <th>0</th>\n",
       "      <th>1</th>\n",
       "      <th>2</th>\n",
       "      <th>3</th>\n",
       "      <th>4</th>\n",
       "      <th>5</th>\n",
       "      <th>6</th>\n",
       "      <th>7</th>\n",
       "      <th>8</th>\n",
       "      <th>9</th>\n",
       "      <th>...</th>\n",
       "      <th>54</th>\n",
       "      <th>55</th>\n",
       "      <th>56</th>\n",
       "      <th>57</th>\n",
       "      <th>58</th>\n",
       "      <th>59</th>\n",
       "      <th>60</th>\n",
       "      <th>61</th>\n",
       "      <th>62</th>\n",
       "      <th>63</th>\n",
       "    </tr>\n",
       "  </thead>\n",
       "  <tbody>\n",
       "    <tr>\n",
       "      <th>0</th>\n",
       "      <td>0.0</td>\n",
       "      <td>0.0</td>\n",
       "      <td>5.0</td>\n",
       "      <td>13.0</td>\n",
       "      <td>9.0</td>\n",
       "      <td>1.0</td>\n",
       "      <td>0.0</td>\n",
       "      <td>0.0</td>\n",
       "      <td>0.0</td>\n",
       "      <td>0.0</td>\n",
       "      <td>...</td>\n",
       "      <td>0.0</td>\n",
       "      <td>0.0</td>\n",
       "      <td>0.0</td>\n",
       "      <td>0.0</td>\n",
       "      <td>6.0</td>\n",
       "      <td>13.0</td>\n",
       "      <td>10.0</td>\n",
       "      <td>0.0</td>\n",
       "      <td>0.0</td>\n",
       "      <td>0.0</td>\n",
       "    </tr>\n",
       "    <tr>\n",
       "      <th>1</th>\n",
       "      <td>0.0</td>\n",
       "      <td>0.0</td>\n",
       "      <td>0.0</td>\n",
       "      <td>12.0</td>\n",
       "      <td>13.0</td>\n",
       "      <td>5.0</td>\n",
       "      <td>0.0</td>\n",
       "      <td>0.0</td>\n",
       "      <td>0.0</td>\n",
       "      <td>0.0</td>\n",
       "      <td>...</td>\n",
       "      <td>0.0</td>\n",
       "      <td>0.0</td>\n",
       "      <td>0.0</td>\n",
       "      <td>0.0</td>\n",
       "      <td>0.0</td>\n",
       "      <td>11.0</td>\n",
       "      <td>16.0</td>\n",
       "      <td>10.0</td>\n",
       "      <td>0.0</td>\n",
       "      <td>0.0</td>\n",
       "    </tr>\n",
       "  </tbody>\n",
       "</table>\n",
       "<p>2 rows × 64 columns</p>\n",
       "</div>"
      ],
      "text/plain": [
       "    0    1    2     3     4    5    6    7    8    9   ...   54   55   56  \\\n",
       "0  0.0  0.0  5.0  13.0   9.0  1.0  0.0  0.0  0.0  0.0  ...  0.0  0.0  0.0   \n",
       "1  0.0  0.0  0.0  12.0  13.0  5.0  0.0  0.0  0.0  0.0  ...  0.0  0.0  0.0   \n",
       "\n",
       "    57   58    59    60    61   62   63  \n",
       "0  0.0  6.0  13.0  10.0   0.0  0.0  0.0  \n",
       "1  0.0  0.0  11.0  16.0  10.0  0.0  0.0  \n",
       "\n",
       "[2 rows x 64 columns]"
      ]
     },
     "execution_count": 8,
     "metadata": {},
     "output_type": "execute_result"
    }
   ],
   "source": [
    "df.head(2)"
   ]
  },
  {
   "cell_type": "code",
   "execution_count": 9,
   "id": "9791d4c4",
   "metadata": {},
   "outputs": [],
   "source": [
    "df = pd.DataFrame(digits.data,columns = digits.feature_names)"
   ]
  },
  {
   "cell_type": "code",
   "execution_count": 11,
   "id": "2b11501c",
   "metadata": {},
   "outputs": [
    {
     "data": {
      "text/html": [
       "<div>\n",
       "<style scoped>\n",
       "    .dataframe tbody tr th:only-of-type {\n",
       "        vertical-align: middle;\n",
       "    }\n",
       "\n",
       "    .dataframe tbody tr th {\n",
       "        vertical-align: top;\n",
       "    }\n",
       "\n",
       "    .dataframe thead th {\n",
       "        text-align: right;\n",
       "    }\n",
       "</style>\n",
       "<table border=\"1\" class=\"dataframe\">\n",
       "  <thead>\n",
       "    <tr style=\"text-align: right;\">\n",
       "      <th></th>\n",
       "      <th>pixel_0_0</th>\n",
       "      <th>pixel_0_1</th>\n",
       "      <th>pixel_0_2</th>\n",
       "      <th>pixel_0_3</th>\n",
       "      <th>pixel_0_4</th>\n",
       "      <th>pixel_0_5</th>\n",
       "      <th>pixel_0_6</th>\n",
       "      <th>pixel_0_7</th>\n",
       "      <th>pixel_1_0</th>\n",
       "      <th>pixel_1_1</th>\n",
       "      <th>...</th>\n",
       "      <th>pixel_6_6</th>\n",
       "      <th>pixel_6_7</th>\n",
       "      <th>pixel_7_0</th>\n",
       "      <th>pixel_7_1</th>\n",
       "      <th>pixel_7_2</th>\n",
       "      <th>pixel_7_3</th>\n",
       "      <th>pixel_7_4</th>\n",
       "      <th>pixel_7_5</th>\n",
       "      <th>pixel_7_6</th>\n",
       "      <th>pixel_7_7</th>\n",
       "    </tr>\n",
       "  </thead>\n",
       "  <tbody>\n",
       "    <tr>\n",
       "      <th>0</th>\n",
       "      <td>0.0</td>\n",
       "      <td>0.0</td>\n",
       "      <td>5.0</td>\n",
       "      <td>13.0</td>\n",
       "      <td>9.0</td>\n",
       "      <td>1.0</td>\n",
       "      <td>0.0</td>\n",
       "      <td>0.0</td>\n",
       "      <td>0.0</td>\n",
       "      <td>0.0</td>\n",
       "      <td>...</td>\n",
       "      <td>0.0</td>\n",
       "      <td>0.0</td>\n",
       "      <td>0.0</td>\n",
       "      <td>0.0</td>\n",
       "      <td>6.0</td>\n",
       "      <td>13.0</td>\n",
       "      <td>10.0</td>\n",
       "      <td>0.0</td>\n",
       "      <td>0.0</td>\n",
       "      <td>0.0</td>\n",
       "    </tr>\n",
       "    <tr>\n",
       "      <th>1</th>\n",
       "      <td>0.0</td>\n",
       "      <td>0.0</td>\n",
       "      <td>0.0</td>\n",
       "      <td>12.0</td>\n",
       "      <td>13.0</td>\n",
       "      <td>5.0</td>\n",
       "      <td>0.0</td>\n",
       "      <td>0.0</td>\n",
       "      <td>0.0</td>\n",
       "      <td>0.0</td>\n",
       "      <td>...</td>\n",
       "      <td>0.0</td>\n",
       "      <td>0.0</td>\n",
       "      <td>0.0</td>\n",
       "      <td>0.0</td>\n",
       "      <td>0.0</td>\n",
       "      <td>11.0</td>\n",
       "      <td>16.0</td>\n",
       "      <td>10.0</td>\n",
       "      <td>0.0</td>\n",
       "      <td>0.0</td>\n",
       "    </tr>\n",
       "  </tbody>\n",
       "</table>\n",
       "<p>2 rows × 64 columns</p>\n",
       "</div>"
      ],
      "text/plain": [
       "   pixel_0_0  pixel_0_1  pixel_0_2  pixel_0_3  pixel_0_4  pixel_0_5  \\\n",
       "0        0.0        0.0        5.0       13.0        9.0        1.0   \n",
       "1        0.0        0.0        0.0       12.0       13.0        5.0   \n",
       "\n",
       "   pixel_0_6  pixel_0_7  pixel_1_0  pixel_1_1  ...  pixel_6_6  pixel_6_7  \\\n",
       "0        0.0        0.0        0.0        0.0  ...        0.0        0.0   \n",
       "1        0.0        0.0        0.0        0.0  ...        0.0        0.0   \n",
       "\n",
       "   pixel_7_0  pixel_7_1  pixel_7_2  pixel_7_3  pixel_7_4  pixel_7_5  \\\n",
       "0        0.0        0.0        6.0       13.0       10.0        0.0   \n",
       "1        0.0        0.0        0.0       11.0       16.0       10.0   \n",
       "\n",
       "   pixel_7_6  pixel_7_7  \n",
       "0        0.0        0.0  \n",
       "1        0.0        0.0  \n",
       "\n",
       "[2 rows x 64 columns]"
      ]
     },
     "execution_count": 11,
     "metadata": {},
     "output_type": "execute_result"
    }
   ],
   "source": [
    "df.head(2)"
   ]
  },
  {
   "cell_type": "code",
   "execution_count": 12,
   "id": "9a302459",
   "metadata": {},
   "outputs": [
    {
     "data": {
      "text/plain": [
       "array([0, 1, 2, ..., 8, 9, 8])"
      ]
     },
     "execution_count": 12,
     "metadata": {},
     "output_type": "execute_result"
    }
   ],
   "source": [
    "digits.target"
   ]
  },
  {
   "cell_type": "code",
   "execution_count": 13,
   "id": "316764e8",
   "metadata": {},
   "outputs": [],
   "source": [
    "df['target'] = digits.target"
   ]
  },
  {
   "cell_type": "code",
   "execution_count": 14,
   "id": "882ef8ce",
   "metadata": {},
   "outputs": [
    {
     "data": {
      "text/plain": [
       "0       0\n",
       "1       1\n",
       "2       2\n",
       "3       3\n",
       "4       4\n",
       "       ..\n",
       "1792    9\n",
       "1793    0\n",
       "1794    8\n",
       "1795    9\n",
       "1796    8\n",
       "Name: target, Length: 1797, dtype: int32"
      ]
     },
     "execution_count": 14,
     "metadata": {},
     "output_type": "execute_result"
    }
   ],
   "source": [
    "df['target']"
   ]
  },
  {
   "cell_type": "code",
   "execution_count": 15,
   "id": "6ae18e50",
   "metadata": {},
   "outputs": [
    {
     "data": {
      "text/plain": [
       "(1797, 65)"
      ]
     },
     "execution_count": 15,
     "metadata": {},
     "output_type": "execute_result"
    }
   ],
   "source": [
    "df.shape"
   ]
  },
  {
   "cell_type": "code",
   "execution_count": 16,
   "id": "48b49efa",
   "metadata": {},
   "outputs": [
    {
     "name": "stdout",
     "output_type": "stream",
     "text": [
      "<class 'pandas.core.frame.DataFrame'>\n",
      "RangeIndex: 1797 entries, 0 to 1796\n",
      "Data columns (total 65 columns):\n",
      " #   Column     Non-Null Count  Dtype  \n",
      "---  ------     --------------  -----  \n",
      " 0   pixel_0_0  1797 non-null   float64\n",
      " 1   pixel_0_1  1797 non-null   float64\n",
      " 2   pixel_0_2  1797 non-null   float64\n",
      " 3   pixel_0_3  1797 non-null   float64\n",
      " 4   pixel_0_4  1797 non-null   float64\n",
      " 5   pixel_0_5  1797 non-null   float64\n",
      " 6   pixel_0_6  1797 non-null   float64\n",
      " 7   pixel_0_7  1797 non-null   float64\n",
      " 8   pixel_1_0  1797 non-null   float64\n",
      " 9   pixel_1_1  1797 non-null   float64\n",
      " 10  pixel_1_2  1797 non-null   float64\n",
      " 11  pixel_1_3  1797 non-null   float64\n",
      " 12  pixel_1_4  1797 non-null   float64\n",
      " 13  pixel_1_5  1797 non-null   float64\n",
      " 14  pixel_1_6  1797 non-null   float64\n",
      " 15  pixel_1_7  1797 non-null   float64\n",
      " 16  pixel_2_0  1797 non-null   float64\n",
      " 17  pixel_2_1  1797 non-null   float64\n",
      " 18  pixel_2_2  1797 non-null   float64\n",
      " 19  pixel_2_3  1797 non-null   float64\n",
      " 20  pixel_2_4  1797 non-null   float64\n",
      " 21  pixel_2_5  1797 non-null   float64\n",
      " 22  pixel_2_6  1797 non-null   float64\n",
      " 23  pixel_2_7  1797 non-null   float64\n",
      " 24  pixel_3_0  1797 non-null   float64\n",
      " 25  pixel_3_1  1797 non-null   float64\n",
      " 26  pixel_3_2  1797 non-null   float64\n",
      " 27  pixel_3_3  1797 non-null   float64\n",
      " 28  pixel_3_4  1797 non-null   float64\n",
      " 29  pixel_3_5  1797 non-null   float64\n",
      " 30  pixel_3_6  1797 non-null   float64\n",
      " 31  pixel_3_7  1797 non-null   float64\n",
      " 32  pixel_4_0  1797 non-null   float64\n",
      " 33  pixel_4_1  1797 non-null   float64\n",
      " 34  pixel_4_2  1797 non-null   float64\n",
      " 35  pixel_4_3  1797 non-null   float64\n",
      " 36  pixel_4_4  1797 non-null   float64\n",
      " 37  pixel_4_5  1797 non-null   float64\n",
      " 38  pixel_4_6  1797 non-null   float64\n",
      " 39  pixel_4_7  1797 non-null   float64\n",
      " 40  pixel_5_0  1797 non-null   float64\n",
      " 41  pixel_5_1  1797 non-null   float64\n",
      " 42  pixel_5_2  1797 non-null   float64\n",
      " 43  pixel_5_3  1797 non-null   float64\n",
      " 44  pixel_5_4  1797 non-null   float64\n",
      " 45  pixel_5_5  1797 non-null   float64\n",
      " 46  pixel_5_6  1797 non-null   float64\n",
      " 47  pixel_5_7  1797 non-null   float64\n",
      " 48  pixel_6_0  1797 non-null   float64\n",
      " 49  pixel_6_1  1797 non-null   float64\n",
      " 50  pixel_6_2  1797 non-null   float64\n",
      " 51  pixel_6_3  1797 non-null   float64\n",
      " 52  pixel_6_4  1797 non-null   float64\n",
      " 53  pixel_6_5  1797 non-null   float64\n",
      " 54  pixel_6_6  1797 non-null   float64\n",
      " 55  pixel_6_7  1797 non-null   float64\n",
      " 56  pixel_7_0  1797 non-null   float64\n",
      " 57  pixel_7_1  1797 non-null   float64\n",
      " 58  pixel_7_2  1797 non-null   float64\n",
      " 59  pixel_7_3  1797 non-null   float64\n",
      " 60  pixel_7_4  1797 non-null   float64\n",
      " 61  pixel_7_5  1797 non-null   float64\n",
      " 62  pixel_7_6  1797 non-null   float64\n",
      " 63  pixel_7_7  1797 non-null   float64\n",
      " 64  target     1797 non-null   int32  \n",
      "dtypes: float64(64), int32(1)\n",
      "memory usage: 905.6 KB\n"
     ]
    }
   ],
   "source": [
    "df.info()"
   ]
  },
  {
   "cell_type": "code",
   "execution_count": 17,
   "id": "0997c0b4",
   "metadata": {},
   "outputs": [
    {
     "data": {
      "text/plain": [
       "pixel_0_0    0\n",
       "pixel_0_1    0\n",
       "pixel_0_2    0\n",
       "pixel_0_3    0\n",
       "pixel_0_4    0\n",
       "            ..\n",
       "pixel_7_4    0\n",
       "pixel_7_5    0\n",
       "pixel_7_6    0\n",
       "pixel_7_7    0\n",
       "target       0\n",
       "Length: 65, dtype: int64"
      ]
     },
     "execution_count": 17,
     "metadata": {},
     "output_type": "execute_result"
    }
   ],
   "source": [
    "df.isnull().sum()"
   ]
  },
  {
   "cell_type": "code",
   "execution_count": 18,
   "id": "83ba07ab",
   "metadata": {},
   "outputs": [
    {
     "data": {
      "text/plain": [
       "array([ 0.,  0.,  5., 13.,  9.,  1.,  0.,  0.,  0.,  0., 13., 15., 10.,\n",
       "       15.,  5.,  0.,  0.,  3., 15.,  2.,  0., 11.,  8.,  0.,  0.,  4.,\n",
       "       12.,  0.,  0.,  8.,  8.,  0.,  0.,  5.,  8.,  0.,  0.,  9.,  8.,\n",
       "        0.,  0.,  4., 11.,  0.,  1., 12.,  7.,  0.,  0.,  2., 14.,  5.,\n",
       "       10., 12.,  0.,  0.,  0.,  0.,  6., 13., 10.,  0.,  0.,  0.])"
      ]
     },
     "execution_count": 18,
     "metadata": {},
     "output_type": "execute_result"
    }
   ],
   "source": [
    "digits.data[0]"
   ]
  },
  {
   "cell_type": "code",
   "execution_count": 19,
   "id": "87a26d09",
   "metadata": {},
   "outputs": [],
   "source": [
    " s = digits.images[0]"
   ]
  },
  {
   "cell_type": "code",
   "execution_count": 20,
   "id": "840c7ed8",
   "metadata": {},
   "outputs": [
    {
     "data": {
      "text/plain": [
       "array([[ 0.,  0.,  5., 13.,  9.,  1.,  0.,  0.],\n",
       "       [ 0.,  0., 13., 15., 10., 15.,  5.,  0.],\n",
       "       [ 0.,  3., 15.,  2.,  0., 11.,  8.,  0.],\n",
       "       [ 0.,  4., 12.,  0.,  0.,  8.,  8.,  0.],\n",
       "       [ 0.,  5.,  8.,  0.,  0.,  9.,  8.,  0.],\n",
       "       [ 0.,  4., 11.,  0.,  1., 12.,  7.,  0.],\n",
       "       [ 0.,  2., 14.,  5., 10., 12.,  0.,  0.],\n",
       "       [ 0.,  0.,  6., 13., 10.,  0.,  0.,  0.]])"
      ]
     },
     "execution_count": 20,
     "metadata": {},
     "output_type": "execute_result"
    }
   ],
   "source": [
    "s"
   ]
  },
  {
   "cell_type": "code",
   "execution_count": 21,
   "id": "9e3fe056",
   "metadata": {},
   "outputs": [
    {
     "data": {
      "text/plain": [
       "<Figure size 432x288 with 0 Axes>"
      ]
     },
     "metadata": {},
     "output_type": "display_data"
    },
    {
     "data": {
      "image/png": "[encoded data removed]",
      "text/plain": [
       "<Figure size 288x288 with 1 Axes>"
      ]
     },
     "metadata": {
      "needs_background": "light"
     },
     "output_type": "display_data"
    }
   ],
   "source": [
    "plt.gray()\n",
    "plt.matshow(s)  # matshow used in give array\n",
    "plt.show()"
   ]
  },
  {
   "cell_type": "code",
   "execution_count": 22,
   "id": "90be9144",
   "metadata": {},
   "outputs": [
    {
     "data": {
      "text/plain": [
       "<Figure size 432x288 with 0 Axes>"
      ]
     },
     "metadata": {},
     "output_type": "display_data"
    },
    {
     "data": {
      "image/png": "[encoded data removed]",
      "text/plain": [
       "<Figure size 288x288 with 1 Axes>"
      ]
     },
     "metadata": {
      "needs_background": "light"
     },
     "output_type": "display_data"
    },
    {
     "data": {
      "image/png": "[encoded data removed]",
      "text/plain": [
       "<Figure size 288x288 with 1 Axes>"
      ]
     },
     "metadata": {
      "needs_background": "light"
     },
     "output_type": "display_data"
    },
    {
     "data": {
      "image/png": "[encoded data removed]",
      "text/plain": [
       "<Figure size 288x288 with 1 Axes>"
      ]
     },
     "metadata": {
      "needs_background": "light"
     },
     "output_type": "display_data"
    },
    {
     "data": {
      "image/png": "[encoded data removed]",
      "text/plain": [
       "<Figure size 288x288 with 1 Axes>"
      ]
     },
     "metadata": {
      "needs_background": "light"
     },
     "output_type": "display_data"
    },
    {
     "data": {
      "image/png": "[encoded data removed]",
      "text/plain": [
       "<Figure size 288x288 with 1 Axes>"
      ]
     },
     "metadata": {
      "needs_background": "light"
     },
     "output_type": "display_data"
    }
   ],
   "source": [
    "plt.gray()  #  used = find first five images\n",
    "for i in range(5):\n",
    "    plt.matshow(digits.images[i])\n",
    "    plt.show()"
   ]
  },
  {
   "cell_type": "code",
   "execution_count": 23,
   "id": "317f371b",
   "metadata": {},
   "outputs": [],
   "source": [
    "from sklearn.model_selection import train_test_split"
   ]
  },
  {
   "cell_type": "code",
   "execution_count": 25,
   "id": "af544af9",
   "metadata": {},
   "outputs": [],
   "source": [
    "X = df.drop(\"target\",axis=1)"
   ]
  },
  {
   "cell_type": "code",
   "execution_count": 26,
   "id": "0396ef5d",
   "metadata": {},
   "outputs": [],
   "source": [
    "y = df.target"
   ]
  },
  {
   "cell_type": "code",
   "execution_count": 27,
   "id": "c8c7f491",
   "metadata": {},
   "outputs": [],
   "source": [
    "X_train, X_test, y_train, y_test = train_test_split(X, y, test_size=0.20, random_state=42)"
   ]
  },
  {
   "cell_type": "code",
   "execution_count": 28,
   "id": "466d4532",
   "metadata": {},
   "outputs": [
    {
     "data": {
      "text/plain": [
       "(1437, 64)"
      ]
     },
     "execution_count": 28,
     "metadata": {},
     "output_type": "execute_result"
    }
   ],
   "source": [
    "X_train.shape"
   ]
  },
  {
   "cell_type": "code",
   "execution_count": 29,
   "id": "52a69f7a",
   "metadata": {},
   "outputs": [
    {
     "data": {
      "text/plain": [
       "(360, 64)"
      ]
     },
     "execution_count": 29,
     "metadata": {},
     "output_type": "execute_result"
    }
   ],
   "source": [
    "X_test.shape"
   ]
  },
  {
   "cell_type": "code",
   "execution_count": 30,
   "id": "64d97458",
   "metadata": {},
   "outputs": [
    {
     "data": {
      "text/plain": [
       "1245    6\n",
       "220     9\n",
       "1518    3\n",
       "438     7\n",
       "1270    2\n",
       "       ..\n",
       "1731    4\n",
       "1630    3\n",
       "1037    8\n",
       "965     3\n",
       "1461    5\n",
       "Name: target, Length: 360, dtype: int32"
      ]
     },
     "execution_count": 30,
     "metadata": {},
     "output_type": "execute_result"
    }
   ],
   "source": [
    "y_test"
   ]
  },
  {
   "cell_type": "code",
   "execution_count": 31,
   "id": "243e28e5",
   "metadata": {},
   "outputs": [],
   "source": [
    "from sklearn.tree import DecisionTreeClassifier"
   ]
  },
  {
   "cell_type": "code",
   "execution_count": 32,
   "id": "743f2449",
   "metadata": {},
   "outputs": [],
   "source": [
    "model = DecisionTreeClassifier()"
   ]
  },
  {
   "cell_type": "code",
   "execution_count": 33,
   "id": "aae7d58b",
   "metadata": {},
   "outputs": [
    {
     "data": {
      "text/plain": [
       "DecisionTreeClassifier()"
      ]
     },
     "execution_count": 33,
     "metadata": {},
     "output_type": "execute_result"
    }
   ],
   "source": [
    "model.fit(X_train,y_train)"
   ]
  },
  {
   "cell_type": "code",
   "execution_count": 34,
   "id": "d2993470",
   "metadata": {},
   "outputs": [
    {
     "data": {
      "text/plain": [
       "0.8444444444444444"
      ]
     },
     "execution_count": 34,
     "metadata": {},
     "output_type": "execute_result"
    }
   ],
   "source": [
    "model.score(X_test,y_test)"
   ]
  },
  {
   "cell_type": "code",
   "execution_count": 35,
   "id": "13ab3a63",
   "metadata": {},
   "outputs": [],
   "source": [
    "import matplotlib.pyplot as plt \n",
    "from sklearn import tree"
   ]
  },
  {
   "cell_type": "code",
   "execution_count": 36,
   "id": "9e8d4574",
   "metadata": {
    "scrolled": false
   },
   "outputs": [
    {
     "data": {
      "text/plain": [
       "[Text(164.59534015486727, 421.29, 'X[36] <= 0.5\\ngini = 0.9\\nsamples = 1437\\nvalue = [145, 154, 144, 149, 135, 135, 146, 145, 144, 140]'),\n",
       " Text(40.492035398230094, 394.11, 'X[42] <= 5.0\\ngini = 0.539\\nsamples = 223\\nvalue = [143, 0, 3, 1, 6, 17, 4, 0, 3, 46]'),\n",
       " Text(19.75221238938053, 366.93, 'X[21] <= 6.5\\ngini = 0.376\\nsamples = 59\\nvalue = [0, 0, 1, 1, 0, 12, 0, 0, 0, 45]'),\n",
       " Text(7.900884955752213, 339.75, 'X[62] <= 1.5\\ngini = 0.272\\nsamples = 13\\nvalue = [0, 0, 1, 0, 0, 11, 0, 0, 0, 1]'),\n",
       " Text(3.9504424778761065, 312.57, 'gini = 0.0\\nsamples = 11\\nvalue = [0, 0, 0, 0, 0, 11, 0, 0, 0, 0]'),\n",
       " Text(11.85132743362832, 312.57, 'X[26] <= 0.5\\ngini = 0.5\\nsamples = 2\\nvalue = [0, 0, 1, 0, 0, 0, 0, 0, 0, 1]'),\n",
       " Text(7.900884955752213, 285.39, 'gini = 0.0\\nsamples = 1\\nvalue = [0, 0, 1, 0, 0, 0, 0, 0, 0, 0]'),\n",
       " Text(15.801769911504426, 285.39, 'gini = 0.0\\nsamples = 1\\nvalue = [0, 0, 0, 0, 0, 0, 0, 0, 0, 1]'),\n",
       " Text(31.603539823008852, 339.75, 'X[34] <= 9.5\\ngini = 0.084\\nsamples = 46\\nvalue = [0, 0, 0, 1, 0, 1, 0, 0, 0, 44]'),\n",
       " Text(27.653097345132746, 312.57, 'X[27] <= 1.5\\ngini = 0.043\\nsamples = 45\\nvalue = [0, 0, 0, 1, 0, 0, 0, 0, 0, 44]'),\n",
       " Text(23.70265486725664, 285.39, 'gini = 0.0\\nsamples = 1\\nvalue = [0, 0, 0, 1, 0, 0, 0, 0, 0, 0]'),\n",
       " Text(31.603539823008852, 285.39, 'gini = 0.0\\nsamples = 44\\nvalue = [0, 0, 0, 0, 0, 0, 0, 0, 0, 44]'),\n",
       " Text(35.55398230088496, 312.57, 'gini = 0.0\\nsamples = 1\\nvalue = [0, 0, 0, 0, 0, 1, 0, 0, 0, 0]'),\n",
       " Text(61.23185840707965, 366.93, 'X[21] <= 0.5\\ngini = 0.236\\nsamples = 164\\nvalue = [143, 0, 2, 0, 6, 5, 4, 0, 3, 1]'),\n",
       " Text(47.40530973451328, 339.75, 'X[29] <= 1.0\\ngini = 0.735\\nsamples = 14\\nvalue = [1, 0, 1, 0, 5, 4, 3, 0, 0, 0]'),\n",
       " Text(43.45486725663717, 312.57, 'X[61] <= 0.5\\ngini = 0.667\\nsamples = 9\\nvalue = [1, 0, 1, 0, 0, 4, 3, 0, 0, 0]'),\n",
       " Text(39.50442477876106, 285.39, 'gini = 0.0\\nsamples = 4\\nvalue = [0, 0, 0, 0, 0, 4, 0, 0, 0, 0]'),\n",
       " Text(47.40530973451328, 285.39, 'X[43] <= 11.5\\ngini = 0.56\\nsamples = 5\\nvalue = [1, 0, 1, 0, 0, 0, 3, 0, 0, 0]'),\n",
       " Text(43.45486725663717, 258.21000000000004, 'X[11] <= 15.0\\ngini = 0.5\\nsamples = 2\\nvalue = [1, 0, 1, 0, 0, 0, 0, 0, 0, 0]'),\n",
       " Text(39.50442477876106, 231.03, 'gini = 0.0\\nsamples = 1\\nvalue = [1, 0, 0, 0, 0, 0, 0, 0, 0, 0]'),\n",
       " Text(47.40530973451328, 231.03, 'gini = 0.0\\nsamples = 1\\nvalue = [0, 0, 1, 0, 0, 0, 0, 0, 0, 0]'),\n",
       " Text(51.35575221238938, 258.21000000000004, 'gini = 0.0\\nsamples = 3\\nvalue = [0, 0, 0, 0, 0, 0, 3, 0, 0, 0]'),\n",
       " Text(51.35575221238938, 312.57, 'gini = 0.0\\nsamples = 5\\nvalue = [0, 0, 0, 0, 5, 0, 0, 0, 0, 0]'),\n",
       " Text(75.05840707964602, 339.75, 'X[28] <= 4.5\\ngini = 0.103\\nsamples = 150\\nvalue = [142, 0, 1, 0, 1, 1, 1, 0, 3, 1]'),\n",
       " Text(67.15752212389381, 312.57, 'X[18] <= 2.5\\ngini = 0.027\\nsamples = 144\\nvalue = [142, 0, 1, 0, 1, 0, 0, 0, 0, 0]'),\n",
       " Text(63.207079646017704, 285.39, 'X[34] <= 8.0\\ngini = 0.5\\nsamples = 2\\nvalue = [0, 0, 1, 0, 1, 0, 0, 0, 0, 0]'),\n",
       " Text(59.256637168141594, 258.21000000000004, 'gini = 0.0\\nsamples = 1\\nvalue = [0, 0, 1, 0, 0, 0, 0, 0, 0, 0]'),\n",
       " Text(67.15752212389381, 258.21000000000004, 'gini = 0.0\\nsamples = 1\\nvalue = [0, 0, 0, 0, 1, 0, 0, 0, 0, 0]'),\n",
       " Text(71.10796460176992, 285.39, 'gini = 0.0\\nsamples = 142\\nvalue = [142, 0, 0, 0, 0, 0, 0, 0, 0, 0]'),\n",
       " Text(82.95929203539824, 312.57, 'X[37] <= 6.0\\ngini = 0.667\\nsamples = 6\\nvalue = [0, 0, 0, 0, 0, 1, 1, 0, 3, 1]'),\n",
       " Text(79.00884955752213, 285.39, 'gini = 0.0\\nsamples = 3\\nvalue = [0, 0, 0, 0, 0, 0, 0, 0, 3, 0]'),\n",
       " Text(86.90973451327434, 285.39, 'X[54] <= 1.5\\ngini = 0.667\\nsamples = 3\\nvalue = [0, 0, 0, 0, 0, 1, 1, 0, 0, 1]'),\n",
       " Text(82.95929203539824, 258.21000000000004, 'gini = 0.0\\nsamples = 1\\nvalue = [0, 0, 0, 0, 0, 1, 0, 0, 0, 0]'),\n",
       " Text(90.86017699115045, 258.21000000000004, 'X[19] <= 10.0\\ngini = 0.5\\nsamples = 2\\nvalue = [0, 0, 0, 0, 0, 0, 1, 0, 0, 1]'),\n",
       " Text(86.90973451327434, 231.03, 'gini = 0.0\\nsamples = 1\\nvalue = [0, 0, 0, 0, 0, 0, 0, 0, 0, 1]'),\n",
       " Text(94.81061946902656, 231.03, 'gini = 0.0\\nsamples = 1\\nvalue = [0, 0, 0, 0, 0, 0, 1, 0, 0, 0]'),\n",
       " Text(288.69864491150446, 394.11, 'X[21] <= 0.5\\ngini = 0.887\\nsamples = 1214\\nvalue = [2, 154, 141, 148, 129, 118, 142, 145, 141, 94]'),\n",
       " Text(183.69557522123895, 366.93, 'X[42] <= 8.5\\ngini = 0.74\\nsamples = 363\\nvalue = [0, 35, 38, 12, 22, 108, 139, 5, 3, 1]'),\n",
       " Text(149.129203539823, 339.75, 'X[5] <= 1.5\\ngini = 0.646\\nsamples = 193\\nvalue = [0, 29, 30, 12, 6, 106, 2, 4, 3, 1]'),\n",
       " Text(128.38938053097345, 312.57, 'X[27] <= 13.5\\ngini = 0.731\\nsamples = 84\\nvalue = [0, 29, 30, 11, 4, 2, 2, 3, 2, 1]'),\n",
       " Text(114.5628318584071, 285.39, 'X[37] <= 1.5\\ngini = 0.536\\nsamples = 45\\nvalue = [0, 3, 30, 3, 3, 1, 1, 3, 1, 0]'),\n",
       " Text(106.66194690265488, 258.21000000000004, 'X[26] <= 12.5\\ngini = 0.064\\nsamples = 30\\nvalue = [0, 0, 29, 0, 0, 0, 0, 0, 1, 0]'),\n",
       " Text(102.71150442477877, 231.03, 'gini = 0.0\\nsamples = 29\\nvalue = [0, 0, 29, 0, 0, 0, 0, 0, 0, 0]'),\n",
       " Text(110.61238938053098, 231.03, 'gini = 0.0\\nsamples = 1\\nvalue = [0, 0, 0, 0, 0, 0, 0, 0, 1, 0]'),\n",
       " Text(122.4637168141593, 258.21000000000004, 'X[60] <= 4.0\\ngini = 0.827\\nsamples = 15\\nvalue = [0, 3, 1, 3, 3, 1, 1, 3, 0, 0]'),\n",
       " Text(118.51327433628319, 231.03, 'gini = 0.0\\nsamples = 3\\nvalue = [0, 0, 0, 0, 0, 0, 0, 3, 0, 0]'),\n",
       " Text(126.41415929203541, 231.03, 'X[30] <= 1.0\\ngini = 0.792\\nsamples = 12\\nvalue = [0, 3, 1, 3, 3, 1, 1, 0, 0, 0]'),\n",
       " Text(122.4637168141593, 203.85, 'X[10] <= 0.5\\ngini = 0.741\\nsamples = 9\\nvalue = [0, 3, 1, 3, 0, 1, 1, 0, 0, 0]'),\n",
       " Text(118.51327433628319, 176.67000000000002, 'gini = 0.0\\nsamples = 3\\nvalue = [0, 3, 0, 0, 0, 0, 0, 0, 0, 0]'),\n",
       " Text(126.41415929203541, 176.67000000000002, 'X[54] <= 4.0\\ngini = 0.667\\nsamples = 6\\nvalue = [0, 0, 1, 3, 0, 1, 1, 0, 0, 0]'),\n",
       " Text(122.4637168141593, 149.49, 'gini = 0.0\\nsamples = 3\\nvalue = [0, 0, 0, 3, 0, 0, 0, 0, 0, 0]'),\n",
       " Text(130.3646017699115, 149.49, 'X[35] <= 5.5\\ngini = 0.667\\nsamples = 3\\nvalue = [0, 0, 1, 0, 0, 1, 1, 0, 0, 0]'),\n",
       " Text(126.41415929203541, 122.31, 'gini = 0.0\\nsamples = 1\\nvalue = [0, 0, 0, 0, 0, 1, 0, 0, 0, 0]'),\n",
       " Text(134.31504424778763, 122.31, 'X[62] <= 8.5\\ngini = 0.5\\nsamples = 2\\nvalue = [0, 0, 1, 0, 0, 0, 1, 0, 0, 0]'),\n",
       " Text(130.3646017699115, 95.13, 'gini = 0.0\\nsamples = 1\\nvalue = [0, 0, 0, 0, 0, 0, 1, 0, 0, 0]'),\n",
       " Text(138.26548672566372, 95.13, 'gini = 0.0\\nsamples = 1\\nvalue = [0, 0, 1, 0, 0, 0, 0, 0, 0, 0]'),\n",
       " Text(130.3646017699115, 203.85, 'gini = 0.0\\nsamples = 3\\nvalue = [0, 0, 0, 0, 3, 0, 0, 0, 0, 0]'),\n",
       " Text(142.21592920353984, 285.39, 'X[46] <= 2.5\\ngini = 0.51\\nsamples = 39\\nvalue = [0, 26, 0, 8, 1, 1, 1, 0, 1, 1]'),\n",
       " Text(138.26548672566372, 258.21000000000004, 'gini = 0.0\\nsamples = 26\\nvalue = [0, 26, 0, 0, 0, 0, 0, 0, 0, 0]'),\n",
       " Text(146.16637168141594, 258.21000000000004, 'X[12] <= 14.5\\ngini = 0.592\\nsamples = 13\\nvalue = [0, 0, 0, 8, 1, 1, 1, 0, 1, 1]'),\n",
       " Text(142.21592920353984, 231.03, 'X[25] <= 1.0\\ngini = 0.8\\nsamples = 5\\nvalue = [0, 0, 0, 0, 1, 1, 1, 0, 1, 1]'),\n",
       " Text(138.26548672566372, 203.85, 'gini = 0.0\\nsamples = 1\\nvalue = [0, 0, 0, 0, 0, 0, 1, 0, 0, 0]'),\n",
       " Text(146.16637168141594, 203.85, 'X[19] <= 8.5\\ngini = 0.75\\nsamples = 4\\nvalue = [0, 0, 0, 0, 1, 1, 0, 0, 1, 1]'),\n",
       " Text(142.21592920353984, 176.67000000000002, 'gini = 0.0\\nsamples = 1\\nvalue = [0, 0, 0, 0, 0, 0, 0, 0, 0, 1]'),\n",
       " Text(150.11681415929203, 176.67000000000002, 'X[35] <= 10.0\\ngini = 0.667\\nsamples = 3\\nvalue = [0, 0, 0, 0, 1, 1, 0, 0, 1, 0]'),\n",
       " Text(146.16637168141594, 149.49, 'gini = 0.0\\nsamples = 1\\nvalue = [0, 0, 0, 0, 0, 1, 0, 0, 0, 0]'),\n",
       " Text(154.06725663716816, 149.49, 'X[61] <= 4.0\\ngini = 0.5\\nsamples = 2\\nvalue = [0, 0, 0, 0, 1, 0, 0, 0, 1, 0]'),\n",
       " Text(150.11681415929203, 122.31, 'gini = 0.0\\nsamples = 1\\nvalue = [0, 0, 0, 0, 1, 0, 0, 0, 0, 0]'),\n",
       " Text(158.01769911504425, 122.31, 'gini = 0.0\\nsamples = 1\\nvalue = [0, 0, 0, 0, 0, 0, 0, 0, 1, 0]'),\n",
       " Text(150.11681415929203, 231.03, 'gini = 0.0\\nsamples = 8\\nvalue = [0, 0, 0, 8, 0, 0, 0, 0, 0, 0]'),\n",
       " Text(169.86902654867257, 312.57, 'X[18] <= 4.5\\ngini = 0.089\\nsamples = 109\\nvalue = [0, 0, 0, 1, 2, 104, 0, 1, 1, 0]'),\n",
       " Text(158.01769911504425, 285.39, 'X[15] <= 3.5\\ngini = 0.667\\nsamples = 3\\nvalue = [0, 0, 0, 1, 1, 0, 0, 1, 0, 0]'),\n",
       " Text(154.06725663716816, 258.21000000000004, 'gini = 0.0\\nsamples = 1\\nvalue = [0, 0, 0, 1, 0, 0, 0, 0, 0, 0]'),\n",
       " Text(161.96814159292038, 258.21000000000004, 'X[28] <= 11.5\\ngini = 0.5\\nsamples = 2\\nvalue = [0, 0, 0, 0, 1, 0, 0, 1, 0, 0]'),\n",
       " Text(158.01769911504425, 231.03, 'gini = 0.0\\nsamples = 1\\nvalue = [0, 0, 0, 0, 1, 0, 0, 0, 0, 0]'),\n",
       " Text(165.91858407079647, 231.03, 'gini = 0.0\\nsamples = 1\\nvalue = [0, 0, 0, 0, 0, 0, 0, 1, 0, 0]'),\n",
       " Text(181.7203539823009, 285.39, 'X[24] <= 0.5\\ngini = 0.037\\nsamples = 106\\nvalue = [0, 0, 0, 0, 1, 104, 0, 0, 1, 0]'),\n",
       " Text(177.76991150442478, 258.21000000000004, 'X[8] <= 1.5\\ngini = 0.019\\nsamples = 105\\nvalue = [0, 0, 0, 0, 0, 104, 0, 0, 1, 0]'),\n",
       " Text(173.8194690265487, 231.03, 'gini = 0.0\\nsamples = 104\\nvalue = [0, 0, 0, 0, 0, 104, 0, 0, 0, 0]'),\n",
       " Text(181.7203539823009, 231.03, 'gini = 0.0\\nsamples = 1\\nvalue = [0, 0, 0, 0, 0, 0, 0, 0, 1, 0]'),\n",
       " Text(185.670796460177, 258.21000000000004, 'gini = 0.0\\nsamples = 1\\nvalue = [0, 0, 0, 0, 1, 0, 0, 0, 0, 0]'),\n",
       " Text(218.26194690265487, 339.75, 'X[54] <= 1.5\\ngini = 0.338\\nsamples = 170\\nvalue = [0, 6, 8, 0, 16, 2, 137, 1, 0, 0]'),\n",
       " Text(207.39823008849558, 312.57, 'X[10] <= 5.5\\ngini = 0.697\\nsamples = 34\\nvalue = [0, 6, 2, 0, 16, 2, 7, 1, 0, 0]'),\n",
       " Text(197.52212389380531, 285.39, 'X[52] <= 9.0\\ngini = 0.111\\nsamples = 17\\nvalue = [0, 0, 0, 0, 16, 0, 1, 0, 0, 0]'),\n",
       " Text(193.57168141592922, 258.21000000000004, 'gini = 0.0\\nsamples = 1\\nvalue = [0, 0, 0, 0, 0, 0, 1, 0, 0, 0]'),\n",
       " Text(201.47256637168144, 258.21000000000004, 'gini = 0.0\\nsamples = 16\\nvalue = [0, 0, 0, 0, 16, 0, 0, 0, 0, 0]'),\n",
       " Text(217.27433628318585, 285.39, 'X[12] <= 13.5\\ngini = 0.72\\nsamples = 17\\nvalue = [0, 6, 2, 0, 0, 2, 6, 1, 0, 0]'),\n",
       " Text(209.37345132743366, 258.21000000000004, 'X[30] <= 1.0\\ngini = 0.375\\nsamples = 8\\nvalue = [0, 0, 0, 0, 0, 2, 6, 0, 0, 0]'),\n",
       " Text(205.42300884955753, 231.03, 'gini = 0.0\\nsamples = 6\\nvalue = [0, 0, 0, 0, 0, 0, 6, 0, 0, 0]'),\n",
       " Text(213.32389380530975, 231.03, 'gini = 0.0\\nsamples = 2\\nvalue = [0, 0, 0, 0, 0, 2, 0, 0, 0, 0]'),\n",
       " Text(225.17522123893806, 258.21000000000004, 'X[9] <= 2.5\\ngini = 0.494\\nsamples = 9\\nvalue = [0, 6, 2, 0, 0, 0, 0, 1, 0, 0]'),\n",
       " Text(221.22477876106197, 231.03, 'gini = 0.0\\nsamples = 6\\nvalue = [0, 6, 0, 0, 0, 0, 0, 0, 0, 0]'),\n",
       " Text(229.1256637168142, 231.03, 'X[36] <= 11.5\\ngini = 0.444\\nsamples = 3\\nvalue = [0, 0, 2, 0, 0, 0, 0, 1, 0, 0]'),\n",
       " Text(225.17522123893806, 203.85, 'gini = 0.0\\nsamples = 2\\nvalue = [0, 0, 2, 0, 0, 0, 0, 0, 0, 0]'),\n",
       " Text(233.07610619469028, 203.85, 'gini = 0.0\\nsamples = 1\\nvalue = [0, 0, 0, 0, 0, 0, 0, 1, 0, 0]'),\n",
       " Text(229.1256637168142, 312.57, 'X[2] <= 11.0\\ngini = 0.084\\nsamples = 136\\nvalue = [0, 0, 6, 0, 0, 0, 130, 0, 0, 0]'),\n",
       " Text(225.17522123893806, 285.39, 'gini = 0.0\\nsamples = 130\\nvalue = [0, 0, 0, 0, 0, 0, 130, 0, 0, 0]'),\n",
       " Text(233.07610619469028, 285.39, 'gini = 0.0\\nsamples = 6\\nvalue = [0, 0, 6, 0, 0, 0, 0, 0, 0, 0]'),\n",
       " Text(393.70171460176994, 366.93, 'X[60] <= 2.5\\ngini = 0.859\\nsamples = 851\\nvalue = [2, 119, 103, 136, 107, 10, 3, 140, 138, 93]'),\n",
       " Text(264.67964601769916, 339.75, 'X[26] <= 12.5\\ngini = 0.204\\nsamples = 109\\nvalue = [0, 0, 1, 2, 5, 0, 0, 97, 0, 4]'),\n",
       " Text(248.87787610619472, 312.57, 'X[37] <= 0.5\\ngini = 0.08\\nsamples = 97\\nvalue = [0, 0, 1, 2, 1, 0, 0, 93, 0, 0]'),\n",
       " Text(240.9769911504425, 285.39, 'X[52] <= 1.0\\ngini = 0.64\\nsamples = 5\\nvalue = [0, 0, 0, 2, 1, 0, 0, 2, 0, 0]'),\n",
       " Text(237.02654867256638, 258.21000000000004, 'gini = 0.0\\nsamples = 2\\nvalue = [0, 0, 0, 0, 0, 0, 0, 2, 0, 0]'),\n",
       " Text(244.9274336283186, 258.21000000000004, 'X[29] <= 3.0\\ngini = 0.444\\nsamples = 3\\nvalue = [0, 0, 0, 2, 1, 0, 0, 0, 0, 0]'),\n",
       " Text(240.9769911504425, 231.03, 'gini = 0.0\\nsamples = 2\\nvalue = [0, 0, 0, 2, 0, 0, 0, 0, 0, 0]'),\n",
       " Text(248.87787610619472, 231.03, 'gini = 0.0\\nsamples = 1\\nvalue = [0, 0, 0, 0, 1, 0, 0, 0, 0, 0]'),\n",
       " Text(256.7787610619469, 285.39, 'X[54] <= 8.0\\ngini = 0.022\\nsamples = 92\\nvalue = [0, 0, 1, 0, 0, 0, 0, 91, 0, 0]'),\n",
       " Text(252.82831858407081, 258.21000000000004, 'gini = 0.0\\nsamples = 91\\nvalue = [0, 0, 0, 0, 0, 0, 0, 91, 0, 0]'),\n",
       " Text(260.729203539823, 258.21000000000004, 'gini = 0.0\\nsamples = 1\\nvalue = [0, 0, 1, 0, 0, 0, 0, 0, 0, 0]'),\n",
       " Text(280.48141592920354, 312.57, 'X[18] <= 12.5\\ngini = 0.667\\nsamples = 12\\nvalue = [0, 0, 0, 0, 4, 0, 0, 4, 0, 4]'),\n",
       " Text(272.58053097345135, 285.39, 'X[59] <= 12.5\\ngini = 0.32\\nsamples = 5\\nvalue = [0, 0, 0, 0, 0, 0, 0, 4, 0, 1]'),\n",
       " Text(268.63008849557525, 258.21000000000004, 'gini = 0.0\\nsamples = 4\\nvalue = [0, 0, 0, 0, 0, 0, 0, 4, 0, 0]'),\n",
       " Text(276.53097345132744, 258.21000000000004, 'gini = 0.0\\nsamples = 1\\nvalue = [0, 0, 0, 0, 0, 0, 0, 0, 0, 1]'),\n",
       " Text(288.3823008849558, 285.39, 'X[4] <= 10.5\\ngini = 0.49\\nsamples = 7\\nvalue = [0, 0, 0, 0, 4, 0, 0, 0, 0, 3]'),\n",
       " Text(284.4318584070797, 258.21000000000004, 'gini = 0.0\\nsamples = 4\\nvalue = [0, 0, 0, 0, 4, 0, 0, 0, 0, 0]'),\n",
       " Text(292.3327433628319, 258.21000000000004, 'gini = 0.0\\nsamples = 3\\nvalue = [0, 0, 0, 0, 0, 0, 0, 0, 0, 3]'),\n",
       " Text(522.7237831858407, 339.75, 'X[33] <= 4.5\\ngini = 0.851\\nsamples = 742\\nvalue = [2, 119, 102, 134, 102, 10, 3, 43, 138, 89]'),\n",
       " Text(407.4511061946903, 312.57, 'X[43] <= 2.5\\ngini = 0.829\\nsamples = 629\\nvalue = [2, 108, 102, 133, 11, 9, 1, 38, 136, 89]'),\n",
       " Text(325.5411504424779, 285.39, 'X[26] <= 3.5\\ngini = 0.689\\nsamples = 266\\nvalue = [0, 25, 7, 119, 2, 7, 0, 4, 20, 82]'),\n",
       " Text(300.23362831858407, 258.21000000000004, 'X[63] <= 1.5\\ngini = 0.232\\nsamples = 119\\nvalue = [0, 2, 6, 104, 0, 0, 0, 0, 3, 4]'),\n",
       " Text(290.35752212389383, 231.03, 'X[19] <= 8.5\\ngini = 0.136\\nsamples = 112\\nvalue = [0, 1, 0, 104, 0, 0, 0, 0, 3, 4]'),\n",
       " Text(282.45663716814164, 203.85, 'X[4] <= 7.5\\ngini = 0.019\\nsamples = 103\\nvalue = [0, 0, 0, 102, 0, 0, 0, 0, 0, 1]'),\n",
       " Text(278.5061946902655, 176.67000000000002, 'X[54] <= 0.5\\ngini = 0.444\\nsamples = 3\\nvalue = [0, 0, 0, 2, 0, 0, 0, 0, 0, 1]'),\n",
       " Text(274.5557522123894, 149.49, 'gini = 0.0\\nsamples = 1\\nvalue = [0, 0, 0, 0, 0, 0, 0, 0, 0, 1]'),\n",
       " Text(282.45663716814164, 149.49, 'gini = 0.0\\nsamples = 2\\nvalue = [0, 0, 0, 2, 0, 0, 0, 0, 0, 0]'),\n",
       " Text(286.40707964601773, 176.67000000000002, 'gini = 0.0\\nsamples = 100\\nvalue = [0, 0, 0, 100, 0, 0, 0, 0, 0, 0]'),\n",
       " Text(298.258407079646, 203.85, 'X[42] <= 8.5\\ngini = 0.716\\nsamples = 9\\nvalue = [0, 1, 0, 2, 0, 0, 0, 0, 3, 3]'),\n",
       " Text(294.3079646017699, 176.67000000000002, 'X[30] <= 0.5\\ngini = 0.611\\nsamples = 6\\nvalue = [0, 1, 0, 2, 0, 0, 0, 0, 0, 3]'),\n",
       " Text(290.35752212389383, 149.49, 'X[20] <= 15.0\\ngini = 0.444\\nsamples = 3\\nvalue = [0, 1, 0, 2, 0, 0, 0, 0, 0, 0]'),\n",
       " Text(286.40707964601773, 122.31, 'gini = 0.0\\nsamples = 1\\nvalue = [0, 1, 0, 0, 0, 0, 0, 0, 0, 0]'),\n",
       " Text(294.3079646017699, 122.31, 'gini = 0.0\\nsamples = 2\\nvalue = [0, 0, 0, 2, 0, 0, 0, 0, 0, 0]'),\n",
       " Text(298.258407079646, 149.49, 'gini = 0.0\\nsamples = 3\\nvalue = [0, 0, 0, 0, 0, 0, 0, 0, 0, 3]'),\n",
       " Text(302.20884955752217, 176.67000000000002, 'gini = 0.0\\nsamples = 3\\nvalue = [0, 0, 0, 0, 0, 0, 0, 0, 3, 0]'),\n",
       " Text(310.10973451327436, 231.03, 'X[28] <= 11.5\\ngini = 0.245\\nsamples = 7\\nvalue = [0, 1, 6, 0, 0, 0, 0, 0, 0, 0]'),\n",
       " Text(306.15929203539827, 203.85, 'gini = 0.0\\nsamples = 6\\nvalue = [0, 0, 6, 0, 0, 0, 0, 0, 0, 0]'),\n",
       " Text(314.06017699115046, 203.85, 'gini = 0.0\\nsamples = 1\\nvalue = [0, 1, 0, 0, 0, 0, 0, 0, 0, 0]'),\n",
       " Text(350.8486725663717, 258.21000000000004, 'X[42] <= 11.0\\ngini = 0.667\\nsamples = 147\\nvalue = [0, 23, 1, 15, 2, 7, 0, 4, 17, 78]'),\n",
       " Text(337.26902654867257, 231.03, 'X[10] <= 0.5\\ngini = 0.598\\nsamples = 131\\nvalue = [0, 23, 1, 15, 2, 6, 0, 4, 2, 78]'),\n",
       " Text(321.9610619469027, 203.85, 'X[20] <= 12.0\\ngini = 0.266\\nsamples = 19\\nvalue = [0, 16, 0, 0, 0, 0, 0, 0, 0, 3]'),\n",
       " Text(318.01061946902655, 176.67000000000002, 'gini = 0.0\\nsamples = 3\\nvalue = [0, 0, 0, 0, 0, 0, 0, 0, 0, 3]'),\n",
       " Text(325.9115044247788, 176.67000000000002, 'gini = 0.0\\nsamples = 16\\nvalue = [0, 16, 0, 0, 0, 0, 0, 0, 0, 0]'),\n",
       " Text(352.5769911504425, 203.85, 'X[21] <= 10.5\\ngini = 0.525\\nsamples = 112\\nvalue = [0, 7, 1, 15, 2, 6, 0, 4, 2, 75]'),\n",
       " Text(333.812389380531, 176.67000000000002, 'X[26] <= 8.5\\ngini = 0.732\\nsamples = 28\\nvalue = [0, 0, 0, 12, 1, 6, 0, 3, 2, 4]'),\n",
       " Text(329.8619469026549, 149.49, 'gini = 0.0\\nsamples = 10\\nvalue = [0, 0, 0, 10, 0, 0, 0, 0, 0, 0]'),\n",
       " Text(337.7628318584071, 149.49, 'X[51] <= 1.0\\ngini = 0.784\\nsamples = 18\\nvalue = [0, 0, 0, 2, 1, 6, 0, 3, 2, 4]'),\n",
       " Text(333.812389380531, 122.31, 'gini = 0.0\\nsamples = 4\\nvalue = [0, 0, 0, 0, 0, 0, 0, 0, 0, 4]'),\n",
       " Text(341.71327433628323, 122.31, 'X[58] <= 8.5\\ngini = 0.724\\nsamples = 14\\nvalue = [0, 0, 0, 2, 1, 6, 0, 3, 2, 0]'),\n",
       " Text(337.7628318584071, 95.13, 'X[35] <= 2.5\\ngini = 0.719\\nsamples = 8\\nvalue = [0, 0, 0, 2, 1, 0, 0, 3, 2, 0]'),\n",
       " Text(333.812389380531, 67.94999999999999, 'gini = 0.0\\nsamples = 3\\nvalue = [0, 0, 0, 0, 0, 0, 0, 3, 0, 0]'),\n",
       " Text(341.71327433628323, 67.94999999999999, 'X[59] <= 5.5\\ngini = 0.64\\nsamples = 5\\nvalue = [0, 0, 0, 2, 1, 0, 0, 0, 2, 0]'),\n",
       " Text(337.7628318584071, 40.76999999999998, 'gini = 0.0\\nsamples = 2\\nvalue = [0, 0, 0, 0, 0, 0, 0, 0, 2, 0]'),\n",
       " Text(345.66371681415933, 40.76999999999998, 'X[53] <= 6.5\\ngini = 0.444\\nsamples = 3\\nvalue = [0, 0, 0, 2, 1, 0, 0, 0, 0, 0]'),\n",
       " Text(341.71327433628323, 13.589999999999975, 'gini = 0.0\\nsamples = 1\\nvalue = [0, 0, 0, 0, 1, 0, 0, 0, 0, 0]'),\n",
       " Text(349.6141592920354, 13.589999999999975, 'gini = 0.0\\nsamples = 2\\nvalue = [0, 0, 0, 2, 0, 0, 0, 0, 0, 0]'),\n",
       " Text(345.66371681415933, 95.13, 'gini = 0.0\\nsamples = 6\\nvalue = [0, 0, 0, 0, 0, 6, 0, 0, 0, 0]'),\n",
       " Text(371.341592920354, 176.67000000000002, 'X[27] <= 3.0\\ngini = 0.277\\nsamples = 84\\nvalue = [0, 7, 1, 3, 1, 0, 0, 1, 0, 71]'),\n",
       " Text(353.5646017699115, 149.49, 'X[3] <= 4.5\\ngini = 0.675\\nsamples = 13\\nvalue = [0, 6, 1, 3, 0, 0, 0, 0, 0, 3]'),\n",
       " Text(349.6141592920354, 122.31, 'gini = 0.0\\nsamples = 6\\nvalue = [0, 6, 0, 0, 0, 0, 0, 0, 0, 0]'),\n",
       " Text(357.5150442477876, 122.31, 'X[58] <= 2.0\\ngini = 0.612\\nsamples = 7\\nvalue = [0, 0, 1, 3, 0, 0, 0, 0, 0, 3]'),\n",
       " Text(353.5646017699115, 95.13, 'gini = 0.0\\nsamples = 3\\nvalue = [0, 0, 0, 3, 0, 0, 0, 0, 0, 0]'),\n",
       " Text(361.46548672566377, 95.13, 'X[35] <= 7.5\\ngini = 0.375\\nsamples = 4\\nvalue = [0, 0, 1, 0, 0, 0, 0, 0, 0, 3]'),\n",
       " Text(357.5150442477876, 67.94999999999999, 'gini = 0.0\\nsamples = 1\\nvalue = [0, 0, 1, 0, 0, 0, 0, 0, 0, 0]'),\n",
       " Text(365.41592920353986, 67.94999999999999, 'gini = 0.0\\nsamples = 3\\nvalue = [0, 0, 0, 0, 0, 0, 0, 0, 0, 3]'),\n",
       " Text(389.1185840707965, 149.49, 'X[34] <= 13.5\\ngini = 0.082\\nsamples = 71\\nvalue = [0, 1, 0, 0, 1, 0, 0, 1, 0, 68]'),\n",
       " Text(381.2176991150443, 122.31, 'X[3] <= 0.5\\ngini = 0.029\\nsamples = 69\\nvalue = [0, 1, 0, 0, 0, 0, 0, 0, 0, 68]'),\n",
       " Text(377.26725663716815, 95.13, 'X[20] <= 8.0\\ngini = 0.5\\nsamples = 2\\nvalue = [0, 1, 0, 0, 0, 0, 0, 0, 0, 1]'),\n",
       " Text(373.31681415929205, 67.94999999999999, 'gini = 0.0\\nsamples = 1\\nvalue = [0, 0, 0, 0, 0, 0, 0, 0, 0, 1]'),\n",
       " Text(381.2176991150443, 67.94999999999999, 'gini = 0.0\\nsamples = 1\\nvalue = [0, 1, 0, 0, 0, 0, 0, 0, 0, 0]'),\n",
       " Text(385.1681415929204, 95.13, 'gini = 0.0\\nsamples = 67\\nvalue = [0, 0, 0, 0, 0, 0, 0, 0, 0, 67]'),\n",
       " Text(397.0194690265487, 122.31, 'X[17] <= 1.0\\ngini = 0.5\\nsamples = 2\\nvalue = [0, 0, 0, 0, 1, 0, 0, 1, 0, 0]'),\n",
       " Text(393.0690265486726, 95.13, 'gini = 0.0\\nsamples = 1\\nvalue = [0, 0, 0, 0, 0, 0, 0, 1, 0, 0]'),\n",
       " Text(400.96991150442483, 95.13, 'gini = 0.0\\nsamples = 1\\nvalue = [0, 0, 0, 0, 1, 0, 0, 0, 0, 0]'),\n",
       " Text(364.42831858407084, 231.03, 'X[35] <= 3.5\\ngini = 0.117\\nsamples = 16\\nvalue = [0, 0, 0, 0, 0, 1, 0, 0, 15, 0]'),\n",
       " Text(360.47787610619474, 203.85, 'gini = 0.0\\nsamples = 1\\nvalue = [0, 0, 0, 0, 0, 1, 0, 0, 0, 0]'),\n",
       " Text(368.37876106194693, 203.85, 'gini = 0.0\\nsamples = 15\\nvalue = [0, 0, 0, 0, 0, 0, 0, 0, 15, 0]'),\n",
       " Text(489.3610619469027, 285.39, 'X[27] <= 9.5\\ngini = 0.766\\nsamples = 363\\nvalue = [2, 83, 95, 14, 9, 2, 1, 34, 116, 7]'),\n",
       " Text(423.68495575221243, 258.21000000000004, 'X[61] <= 0.5\\ngini = 0.561\\nsamples = 138\\nvalue = [2, 0, 85, 2, 3, 0, 0, 31, 12, 3]'),\n",
       " Text(404.9203539823009, 231.03, 'X[50] <= 7.0\\ngini = 0.26\\nsamples = 35\\nvalue = [1, 0, 0, 1, 1, 0, 0, 30, 2, 0]'),\n",
       " Text(397.0194690265487, 203.85, 'X[4] <= 7.0\\ngini = 0.119\\nsamples = 32\\nvalue = [0, 0, 0, 1, 1, 0, 0, 30, 0, 0]'),\n",
       " Text(393.0690265486726, 176.67000000000002, 'gini = 0.0\\nsamples = 1\\nvalue = [0, 0, 0, 0, 1, 0, 0, 0, 0, 0]'),\n",
       " Text(400.96991150442483, 176.67000000000002, 'X[2] <= 7.5\\ngini = 0.062\\nsamples = 31\\nvalue = [0, 0, 0, 1, 0, 0, 0, 30, 0, 0]'),\n",
       " Text(397.0194690265487, 149.49, 'gini = 0.0\\nsamples = 30\\nvalue = [0, 0, 0, 0, 0, 0, 0, 30, 0, 0]'),\n",
       " Text(404.9203539823009, 149.49, 'gini = 0.0\\nsamples = 1\\nvalue = [0, 0, 0, 1, 0, 0, 0, 0, 0, 0]'),\n",
       " Text(412.8212389380531, 203.85, 'X[34] <= 15.5\\ngini = 0.444\\nsamples = 3\\nvalue = [1, 0, 0, 0, 0, 0, 0, 0, 2, 0]'),\n",
       " Text(408.870796460177, 176.67000000000002, 'gini = 0.0\\nsamples = 2\\nvalue = [0, 0, 0, 0, 0, 0, 0, 0, 2, 0]'),\n",
       " Text(416.7716814159292, 176.67000000000002, 'gini = 0.0\\nsamples = 1\\nvalue = [1, 0, 0, 0, 0, 0, 0, 0, 0, 0]'),\n",
       " Text(442.44955752212394, 231.03, 'X[26] <= 7.0\\ngini = 0.308\\nsamples = 103\\nvalue = [1, 0, 85, 1, 2, 0, 0, 1, 10, 3]'),\n",
       " Text(428.62300884955755, 203.85, 'X[38] <= 1.5\\ngini = 0.046\\nsamples = 85\\nvalue = [0, 0, 83, 1, 0, 0, 0, 1, 0, 0]'),\n",
       " Text(424.67256637168146, 176.67000000000002, 'gini = 0.0\\nsamples = 83\\nvalue = [0, 0, 83, 0, 0, 0, 0, 0, 0, 0]'),\n",
       " Text(432.57345132743365, 176.67000000000002, 'X[22] <= 6.5\\ngini = 0.5\\nsamples = 2\\nvalue = [0, 0, 0, 1, 0, 0, 0, 1, 0, 0]'),\n",
       " Text(428.62300884955755, 149.49, 'gini = 0.0\\nsamples = 1\\nvalue = [0, 0, 0, 1, 0, 0, 0, 0, 0, 0]'),\n",
       " Text(436.52389380530974, 149.49, 'gini = 0.0\\nsamples = 1\\nvalue = [0, 0, 0, 0, 0, 0, 0, 1, 0, 0]'),\n",
       " Text(456.27610619469027, 203.85, 'X[5] <= 2.5\\ngini = 0.636\\nsamples = 18\\nvalue = [1, 0, 2, 0, 2, 0, 0, 0, 10, 3]'),\n",
       " Text(448.3752212389381, 176.67000000000002, 'X[2] <= 7.5\\ngini = 0.719\\nsamples = 8\\nvalue = [0, 0, 2, 0, 2, 0, 0, 0, 1, 3]'),\n",
       " Text(444.424778761062, 149.49, 'X[2] <= 2.0\\ngini = 0.64\\nsamples = 5\\nvalue = [0, 0, 2, 0, 2, 0, 0, 0, 1, 0]'),\n",
       " Text(440.4743362831859, 122.31, 'gini = 0.0\\nsamples = 2\\nvalue = [0, 0, 0, 0, 2, 0, 0, 0, 0, 0]'),\n",
       " Text(448.3752212389381, 122.31, 'X[20] <= 13.5\\ngini = 0.444\\nsamples = 3\\nvalue = [0, 0, 2, 0, 0, 0, 0, 0, 1, 0]'),\n",
       " Text(444.424778761062, 95.13, 'gini = 0.0\\nsamples = 1\\nvalue = [0, 0, 0, 0, 0, 0, 0, 0, 1, 0]'),\n",
       " Text(452.3256637168142, 95.13, 'gini = 0.0\\nsamples = 2\\nvalue = [0, 0, 2, 0, 0, 0, 0, 0, 0, 0]'),\n",
       " Text(452.3256637168142, 149.49, 'gini = 0.0\\nsamples = 3\\nvalue = [0, 0, 0, 0, 0, 0, 0, 0, 0, 3]'),\n",
       " Text(464.1769911504425, 176.67000000000002, 'X[35] <= 6.5\\ngini = 0.18\\nsamples = 10\\nvalue = [1, 0, 0, 0, 0, 0, 0, 0, 9, 0]'),\n",
       " Text(460.2265486725664, 149.49, 'gini = 0.0\\nsamples = 1\\nvalue = [1, 0, 0, 0, 0, 0, 0, 0, 0, 0]'),\n",
       " Text(468.1274336283186, 149.49, 'gini = 0.0\\nsamples = 9\\nvalue = [0, 0, 0, 0, 0, 0, 0, 0, 9, 0]'),\n",
       " Text(555.0371681415929, 258.21000000000004, 'X[20] <= 15.5\\ngini = 0.644\\nsamples = 225\\nvalue = [0, 83, 10, 12, 6, 2, 1, 3, 104, 4]'),\n",
       " Text(509.6070796460177, 231.03, 'X[18] <= 2.5\\ngini = 0.395\\nsamples = 123\\nvalue = [0, 5, 2, 7, 4, 2, 1, 3, 95, 4]'),\n",
       " Text(487.87964601769914, 203.85, 'X[58] <= 3.0\\ngini = 0.72\\nsamples = 15\\nvalue = [0, 2, 1, 7, 0, 0, 1, 2, 2, 0]'),\n",
       " Text(479.97876106194695, 176.67000000000002, 'X[45] <= 6.0\\ngini = 0.735\\nsamples = 7\\nvalue = [0, 2, 0, 0, 0, 0, 1, 2, 2, 0]'),\n",
       " Text(476.0283185840708, 149.49, 'X[3] <= 12.0\\ngini = 0.64\\nsamples = 5\\nvalue = [0, 2, 0, 0, 0, 0, 1, 2, 0, 0]'),\n",
       " Text(472.0778761061947, 122.31, 'X[46] <= 7.5\\ngini = 0.444\\nsamples = 3\\nvalue = [0, 0, 0, 0, 0, 0, 1, 2, 0, 0]'),\n",
       " Text(468.1274336283186, 95.13, 'gini = 0.0\\nsamples = 2\\nvalue = [0, 0, 0, 0, 0, 0, 0, 2, 0, 0]'),\n",
       " Text(476.0283185840708, 95.13, 'gini = 0.0\\nsamples = 1\\nvalue = [0, 0, 0, 0, 0, 0, 1, 0, 0, 0]'),\n",
       " Text(479.97876106194695, 122.31, 'gini = 0.0\\nsamples = 2\\nvalue = [0, 2, 0, 0, 0, 0, 0, 0, 0, 0]'),\n",
       " Text(483.92920353982305, 149.49, 'gini = 0.0\\nsamples = 2\\nvalue = [0, 0, 0, 0, 0, 0, 0, 0, 2, 0]'),\n",
       " Text(495.78053097345133, 176.67000000000002, 'X[60] <= 15.5\\ngini = 0.219\\nsamples = 8\\nvalue = [0, 0, 1, 7, 0, 0, 0, 0, 0, 0]'),\n",
       " Text(491.83008849557524, 149.49, 'gini = 0.0\\nsamples = 7\\nvalue = [0, 0, 0, 7, 0, 0, 0, 0, 0, 0]'),\n",
       " Text(499.7309734513275, 149.49, 'gini = 0.0\\nsamples = 1\\nvalue = [0, 0, 1, 0, 0, 0, 0, 0, 0, 0]'),\n",
       " Text(531.3345132743364, 203.85, 'X[30] <= 3.5\\ngini = 0.254\\nsamples = 108\\nvalue = [0, 3, 1, 0, 4, 2, 0, 1, 93, 4]'),\n",
       " Text(515.5327433628319, 176.67000000000002, 'X[21] <= 4.5\\ngini = 0.153\\nsamples = 99\\nvalue = [0, 3, 1, 0, 0, 2, 0, 0, 91, 2]'),\n",
       " Text(507.6318584070797, 149.49, 'X[51] <= 14.5\\ngini = 0.611\\nsamples = 6\\nvalue = [0, 3, 0, 0, 0, 1, 0, 0, 2, 0]'),\n",
       " Text(503.6814159292036, 122.31, 'X[21] <= 3.5\\ngini = 0.444\\nsamples = 3\\nvalue = [0, 0, 0, 0, 0, 1, 0, 0, 2, 0]'),\n",
       " Text(499.7309734513275, 95.13, 'gini = 0.0\\nsamples = 2\\nvalue = [0, 0, 0, 0, 0, 0, 0, 0, 2, 0]'),\n",
       " Text(507.6318584070797, 95.13, 'gini = 0.0\\nsamples = 1\\nvalue = [0, 0, 0, 0, 0, 1, 0, 0, 0, 0]'),\n",
       " Text(511.58230088495577, 122.31, 'gini = 0.0\\nsamples = 3\\nvalue = [0, 3, 0, 0, 0, 0, 0, 0, 0, 0]'),\n",
       " Text(523.433628318584, 149.49, 'X[3] <= 4.5\\ngini = 0.083\\nsamples = 93\\nvalue = [0, 0, 1, 0, 0, 1, 0, 0, 89, 2]'),\n",
       " Text(519.483185840708, 122.31, 'gini = 0.0\\nsamples = 1\\nvalue = [0, 0, 0, 0, 0, 1, 0, 0, 0, 0]'),\n",
       " Text(527.3840707964603, 122.31, 'X[6] <= 7.0\\ngini = 0.064\\nsamples = 92\\nvalue = [0, 0, 1, 0, 0, 0, 0, 0, 89, 2]'),\n",
       " Text(523.433628318584, 95.13, 'X[36] <= 1.5\\ngini = 0.043\\nsamples = 91\\nvalue = [0, 0, 1, 0, 0, 0, 0, 0, 89, 1]'),\n",
       " Text(519.483185840708, 67.94999999999999, 'gini = 0.0\\nsamples = 1\\nvalue = [0, 0, 0, 0, 0, 0, 0, 0, 0, 1]'),\n",
       " Text(527.3840707964603, 67.94999999999999, 'X[36] <= 4.5\\ngini = 0.022\\nsamples = 90\\nvalue = [0, 0, 1, 0, 0, 0, 0, 0, 89, 0]'),\n",
       " Text(523.433628318584, 40.76999999999998, 'X[21] <= 7.0\\ngini = 0.5\\nsamples = 2\\nvalue = [0, 0, 1, 0, 0, 0, 0, 0, 1, 0]'),\n",
       " Text(519.483185840708, 13.589999999999975, 'gini = 0.0\\nsamples = 1\\nvalue = [0, 0, 0, 0, 0, 0, 0, 0, 1, 0]'),\n",
       " Text(527.3840707964603, 13.589999999999975, 'gini = 0.0\\nsamples = 1\\nvalue = [0, 0, 1, 0, 0, 0, 0, 0, 0, 0]'),\n",
       " Text(531.3345132743364, 40.76999999999998, 'gini = 0.0\\nsamples = 88\\nvalue = [0, 0, 0, 0, 0, 0, 0, 0, 88, 0]'),\n",
       " Text(531.3345132743364, 95.13, 'gini = 0.0\\nsamples = 1\\nvalue = [0, 0, 0, 0, 0, 0, 0, 0, 0, 1]'),\n",
       " Text(547.1362831858407, 176.67000000000002, 'X[26] <= 8.5\\ngini = 0.691\\nsamples = 9\\nvalue = [0, 0, 0, 0, 4, 0, 0, 1, 2, 2]'),\n",
       " Text(539.2353982300885, 149.49, 'X[11] <= 12.5\\ngini = 0.444\\nsamples = 3\\nvalue = [0, 0, 0, 0, 0, 0, 0, 1, 2, 0]'),\n",
       " Text(535.2849557522125, 122.31, 'gini = 0.0\\nsamples = 2\\nvalue = [0, 0, 0, 0, 0, 0, 0, 0, 2, 0]'),\n",
       " Text(543.1858407079646, 122.31, 'gini = 0.0\\nsamples = 1\\nvalue = [0, 0, 0, 0, 0, 0, 0, 1, 0, 0]'),\n",
       " Text(555.0371681415929, 149.49, 'X[43] <= 6.5\\ngini = 0.444\\nsamples = 6\\nvalue = [0, 0, 0, 0, 4, 0, 0, 0, 0, 2]'),\n",
       " Text(551.0867256637168, 122.31, 'gini = 0.0\\nsamples = 2\\nvalue = [0, 0, 0, 0, 0, 0, 0, 0, 0, 2]'),\n",
       " Text(558.987610619469, 122.31, 'gini = 0.0\\nsamples = 4\\nvalue = [0, 0, 0, 0, 4, 0, 0, 0, 0, 0]'),\n",
       " Text(600.4672566371681, 231.03, 'X[10] <= 13.5\\ngini = 0.399\\nsamples = 102\\nvalue = [0, 78, 8, 5, 2, 0, 0, 0, 9, 0]'),\n",
       " Text(586.6407079646018, 203.85, 'X[46] <= 1.5\\ngini = 0.177\\nsamples = 85\\nvalue = [0, 77, 1, 2, 2, 0, 0, 0, 3, 0]'),\n",
       " Text(578.7398230088496, 176.67000000000002, 'X[57] <= 1.5\\ngini = 0.073\\nsamples = 80\\nvalue = [0, 77, 1, 1, 0, 0, 0, 0, 1, 0]'),\n",
       " Text(574.7893805309735, 149.49, 'X[19] <= 5.5\\ngini = 0.05\\nsamples = 79\\nvalue = [0, 77, 0, 1, 0, 0, 0, 0, 1, 0]'),\n",
       " Text(566.8884955752213, 122.31, 'X[14] <= 1.0\\ngini = 0.5\\nsamples = 2\\nvalue = [0, 1, 0, 1, 0, 0, 0, 0, 0, 0]'),\n",
       " Text(562.9380530973451, 95.13, 'gini = 0.0\\nsamples = 1\\nvalue = [0, 1, 0, 0, 0, 0, 0, 0, 0, 0]'),\n",
       " Text(570.8389380530974, 95.13, 'gini = 0.0\\nsamples = 1\\nvalue = [0, 0, 0, 1, 0, 0, 0, 0, 0, 0]'),\n",
       " Text(582.6902654867257, 122.31, 'X[52] <= 7.5\\ngini = 0.026\\nsamples = 77\\nvalue = [0, 76, 0, 0, 0, 0, 0, 0, 1, 0]'),\n",
       " Text(578.7398230088496, 95.13, 'X[51] <= 13.0\\ngini = 0.5\\nsamples = 2\\nvalue = [0, 1, 0, 0, 0, 0, 0, 0, 1, 0]'),\n",
       " Text(574.7893805309735, 67.94999999999999, 'gini = 0.0\\nsamples = 1\\nvalue = [0, 0, 0, 0, 0, 0, 0, 0, 1, 0]'),\n",
       " Text(582.6902654867257, 67.94999999999999, 'gini = 0.0\\nsamples = 1\\nvalue = [0, 1, 0, 0, 0, 0, 0, 0, 0, 0]'),\n",
       " Text(586.6407079646018, 95.13, 'gini = 0.0\\nsamples = 75\\nvalue = [0, 75, 0, 0, 0, 0, 0, 0, 0, 0]'),\n",
       " Text(582.6902654867257, 149.49, 'gini = 0.0\\nsamples = 1\\nvalue = [0, 0, 1, 0, 0, 0, 0, 0, 0, 0]'),\n",
       " Text(594.541592920354, 176.67000000000002, 'X[52] <= 5.5\\ngini = 0.64\\nsamples = 5\\nvalue = [0, 0, 0, 1, 2, 0, 0, 0, 2, 0]'),\n",
       " Text(590.5911504424779, 149.49, 'gini = 0.0\\nsamples = 2\\nvalue = [0, 0, 0, 0, 0, 0, 0, 0, 2, 0]'),\n",
       " Text(598.4920353982301, 149.49, 'X[59] <= 10.0\\ngini = 0.444\\nsamples = 3\\nvalue = [0, 0, 0, 1, 2, 0, 0, 0, 0, 0]'),\n",
       " Text(594.541592920354, 122.31, 'gini = 0.0\\nsamples = 2\\nvalue = [0, 0, 0, 0, 2, 0, 0, 0, 0, 0]'),\n",
       " Text(602.4424778761062, 122.31, 'gini = 0.0\\nsamples = 1\\nvalue = [0, 0, 0, 1, 0, 0, 0, 0, 0, 0]'),\n",
       " Text(614.2938053097346, 203.85, 'X[21] <= 5.5\\ngini = 0.671\\nsamples = 17\\nvalue = [0, 1, 7, 3, 0, 0, 0, 0, 6, 0]'),\n",
       " Text(610.3433628318585, 176.67000000000002, 'gini = 0.0\\nsamples = 7\\nvalue = [0, 0, 7, 0, 0, 0, 0, 0, 0, 0]'),\n",
       " Text(618.2442477876107, 176.67000000000002, 'X[50] <= 12.5\\ngini = 0.54\\nsamples = 10\\nvalue = [0, 1, 0, 3, 0, 0, 0, 0, 6, 0]'),\n",
       " Text(614.2938053097346, 149.49, 'X[41] <= 1.5\\ngini = 0.375\\nsamples = 4\\nvalue = [0, 1, 0, 3, 0, 0, 0, 0, 0, 0]'),\n",
       " Text(610.3433628318585, 122.31, 'gini = 0.0\\nsamples = 3\\nvalue = [0, 0, 0, 3, 0, 0, 0, 0, 0, 0]'),\n",
       " Text(618.2442477876107, 122.31, 'gini = 0.0\\nsamples = 1\\nvalue = [0, 1, 0, 0, 0, 0, 0, 0, 0, 0]'),\n",
       " Text(622.1946902654868, 149.49, 'gini = 0.0\\nsamples = 6\\nvalue = [0, 0, 0, 0, 0, 0, 0, 0, 6, 0]'),\n",
       " Text(637.9964601769911, 312.57, 'X[5] <= 9.5\\ngini = 0.339\\nsamples = 113\\nvalue = [0, 11, 0, 1, 91, 1, 2, 5, 2, 0]'),\n",
       " Text(622.1946902654868, 285.39, 'X[37] <= 6.5\\ngini = 0.12\\nsamples = 95\\nvalue = [0, 4, 0, 0, 89, 0, 1, 1, 0, 0]'),\n",
       " Text(614.2938053097346, 258.21000000000004, 'X[45] <= 10.0\\ngini = 0.32\\nsamples = 5\\nvalue = [0, 4, 0, 0, 1, 0, 0, 0, 0, 0]'),\n",
       " Text(610.3433628318585, 231.03, 'gini = 0.0\\nsamples = 4\\nvalue = [0, 4, 0, 0, 0, 0, 0, 0, 0, 0]'),\n",
       " Text(618.2442477876107, 231.03, 'gini = 0.0\\nsamples = 1\\nvalue = [0, 0, 0, 0, 1, 0, 0, 0, 0, 0]'),\n",
       " Text(630.095575221239, 258.21000000000004, 'X[54] <= 1.5\\ngini = 0.044\\nsamples = 90\\nvalue = [0, 0, 0, 0, 88, 0, 1, 1, 0, 0]'),\n",
       " Text(626.1451327433629, 231.03, 'X[19] <= 1.5\\ngini = 0.022\\nsamples = 89\\nvalue = [0, 0, 0, 0, 88, 0, 0, 1, 0, 0]'),\n",
       " Text(622.1946902654868, 203.85, 'gini = 0.0\\nsamples = 1\\nvalue = [0, 0, 0, 0, 0, 0, 0, 1, 0, 0]'),\n",
       " Text(630.095575221239, 203.85, 'gini = 0.0\\nsamples = 88\\nvalue = [0, 0, 0, 0, 88, 0, 0, 0, 0, 0]'),\n",
       " Text(634.046017699115, 231.03, 'gini = 0.0\\nsamples = 1\\nvalue = [0, 0, 0, 0, 0, 0, 1, 0, 0, 0]'),\n",
       " Text(653.7982300884956, 285.39, 'X[12] <= 10.5\\ngini = 0.765\\nsamples = 18\\nvalue = [0, 7, 0, 1, 2, 1, 1, 4, 2, 0]'),\n",
       " Text(645.8973451327435, 258.21000000000004, 'X[19] <= 2.0\\ngini = 0.716\\nsamples = 9\\nvalue = [0, 0, 0, 1, 0, 1, 1, 4, 2, 0]'),\n",
       " Text(641.9469026548674, 231.03, 'gini = 0.0\\nsamples = 4\\nvalue = [0, 0, 0, 0, 0, 0, 0, 4, 0, 0]'),\n",
       " Text(649.8477876106195, 231.03, 'X[14] <= 3.5\\ngini = 0.72\\nsamples = 5\\nvalue = [0, 0, 0, 1, 0, 1, 1, 0, 2, 0]'),\n",
       " Text(645.8973451327435, 203.85, 'gini = 0.0\\nsamples = 2\\nvalue = [0, 0, 0, 0, 0, 0, 0, 0, 2, 0]'),\n",
       " Text(653.7982300884956, 203.85, 'X[7] <= 1.0\\ngini = 0.667\\nsamples = 3\\nvalue = [0, 0, 0, 1, 0, 1, 1, 0, 0, 0]'),\n",
       " Text(649.8477876106195, 176.67000000000002, 'X[10] <= 5.5\\ngini = 0.5\\nsamples = 2\\nvalue = [0, 0, 0, 1, 0, 0, 1, 0, 0, 0]'),\n",
       " Text(645.8973451327435, 149.49, 'gini = 0.0\\nsamples = 1\\nvalue = [0, 0, 0, 0, 0, 0, 1, 0, 0, 0]'),\n",
       " Text(653.7982300884956, 149.49, 'gini = 0.0\\nsamples = 1\\nvalue = [0, 0, 0, 1, 0, 0, 0, 0, 0, 0]'),\n",
       " Text(657.7486725663717, 176.67000000000002, 'gini = 0.0\\nsamples = 1\\nvalue = [0, 0, 0, 0, 0, 1, 0, 0, 0, 0]'),\n",
       " Text(661.6991150442478, 258.21000000000004, 'X[20] <= 13.5\\ngini = 0.346\\nsamples = 9\\nvalue = [0, 7, 0, 0, 2, 0, 0, 0, 0, 0]'),\n",
       " Text(657.7486725663717, 231.03, 'gini = 0.0\\nsamples = 2\\nvalue = [0, 0, 0, 0, 2, 0, 0, 0, 0, 0]'),\n",
       " Text(665.6495575221239, 231.03, 'gini = 0.0\\nsamples = 7\\nvalue = [0, 7, 0, 0, 0, 0, 0, 0, 0, 0]')]"
      ]
     },
     "execution_count": 36,
     "metadata": {},
     "output_type": "execute_result"
    },
    {
     "data": {
      "image/png": "[encoded data removed]",
      "text/plain": [
       "<Figure size 864x576 with 1 Axes>"
      ]
     },
     "metadata": {
      "needs_background": "light"
     },
     "output_type": "display_data"
    }
   ],
   "source": [
    "plt.figure(figsize=(12,8))\n",
    "tree.plot_tree(model.fit(X_train,y_train))"
   ]
  },
  {
   "cell_type": "code",
   "execution_count": 41,
   "id": "5d154ff6",
   "metadata": {},
   "outputs": [],
   "source": [
    "from sklearn.ensemble import RandomForestClassifier"
   ]
  },
  {
   "cell_type": "code",
   "execution_count": 42,
   "id": "e1a9b263",
   "metadata": {},
   "outputs": [],
   "source": [
    "rf = RandomForestClassifier()"
   ]
  },
  {
   "cell_type": "code",
   "execution_count": 43,
   "id": "fa606b24",
   "metadata": {},
   "outputs": [
    {
     "data": {
      "text/plain": [
       "RandomForestClassifier()"
      ]
     },
     "execution_count": 43,
     "metadata": {},
     "output_type": "execute_result"
    }
   ],
   "source": [
    "rf.fit(X_train,y_train)"
   ]
  },
  {
   "cell_type": "code",
   "execution_count": 44,
   "id": "1bab98d4",
   "metadata": {},
   "outputs": [
    {
     "data": {
      "text/plain": [
       "0.975"
      ]
     },
     "execution_count": 44,
     "metadata": {},
     "output_type": "execute_result"
    }
   ],
   "source": [
    "rf.score(X_test,y_test)"
   ]
  },
  {
   "cell_type": "code",
   "execution_count": null,
   "id": "78050704",
   "metadata": {},
   "outputs": [],
   "source": []
  },
  {
   "cell_type": "code",
   "execution_count": null,
   "id": "532b3064",
   "metadata": {},
   "outputs": [],
   "source": []
  },
  {
   "cell_type": "code",
   "execution_count": null,
   "id": "d5553dec",
   "metadata": {},
   "outputs": [],
   "source": []
  },
  {
   "cell_type": "code",
   "execution_count": null,
   "id": "4db2cd9a",
   "metadata": {},
   "outputs": [],
   "source": []
  },
  {
   "cell_type": "code",
   "execution_count": null,
   "id": "7304b943",
   "metadata": {},
   "outputs": [],
   "source": []
  },
  {
   "cell_type": "code",
   "execution_count": null,
   "id": "fc67f92c",
   "metadata": {},
   "outputs": [],
   "source": []
  },
  {
   "cell_type": "code",
   "execution_count": null,
   "id": "aa870486",
   "metadata": {},
   "outputs": [],
   "source": []
  },
  {
   "cell_type": "code",
   "execution_count": null,
   "id": "afff1109",
   "metadata": {},
   "outputs": [],
   "source": []
  },
  {
   "cell_type": "code",
   "execution_count": null,
   "id": "30f5804f",
   "metadata": {},
   "outputs": [],
   "source": []
  },
  {
   "cell_type": "code",
   "execution_count": null,
   "id": "ea053359",
   "metadata": {},
   "outputs": [],
   "source": []
  },
  {
   "cell_type": "code",
   "execution_count": null,
   "id": "0a230429",
   "metadata": {},
   "outputs": [],
   "source": []
  },
  {
   "cell_type": "code",
   "execution_count": null,
   "id": "91e44d47",
   "metadata": {},
   "outputs": [],
   "source": []
  },
  {
   "cell_type": "code",
   "execution_count": null,
   "id": "d96347cd",
   "metadata": {},
   "outputs": [],
   "source": []
  },
  {
   "cell_type": "code",
   "execution_count": null,
   "id": "d4a5e18a",
   "metadata": {},
   "outputs": [],
   "source": []
  },
  {
   "cell_type": "code",
   "execution_count": null,
   "id": "ff4d4379",
   "metadata": {},
   "outputs": [],
   "source": []
  },
  {
   "cell_type": "code",
   "execution_count": null,
   "id": "2f35f71e",
   "metadata": {},
   "outputs": [],
   "source": []
  },
  {
   "cell_type": "code",
   "execution_count": null,
   "id": "e1560172",
   "metadata": {},
   "outputs": [],
   "source": []
  }
 ],
 "metadata": {
  "kernelspec": {
   "display_name": "Python 3 (ipykernel)",
   "language": "python",
   "name": "python3"
  },
  "language_info": {
   "codemirror_mode": {
    "name": "ipython",
    "version": 3
   },
   "file_extension": ".py",
   "mimetype": "text/x-python",
   "name": "python",
   "nbconvert_exporter": "python",
   "pygments_lexer": "ipython3",
   "version": "3.9.7"
  }
 },
 "nbformat": 4,
 "nbformat_minor": 5
}
