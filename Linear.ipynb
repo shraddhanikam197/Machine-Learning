{
 "cells": [
  {
   "cell_type": "code",
   "execution_count": 4,
   "id": "36db82e6",
   "metadata": {},
   "outputs": [],
   "source": [
    "x=[1,2,3,4,5]\n",
    "y=[3,4,2,4,5]"
   ]
  },
  {
   "cell_type": "code",
   "execution_count": 5,
   "id": "19187ae4",
   "metadata": {},
   "outputs": [],
   "source": [
    "import numpy as np"
   ]
  },
  {
   "cell_type": "code",
   "execution_count": 6,
   "id": "7e160f48",
   "metadata": {},
   "outputs": [],
   "source": [
    "x=np.array([1,2,3,4,5])\n",
    "y=np.array([3,4,2,4,5])"
   ]
  },
  {
   "cell_type": "code",
   "execution_count": 8,
   "id": "b66c294b",
   "metadata": {},
   "outputs": [],
   "source": [
    "import matplotlib.pyplot as plt\n"
   ]
  },
  {
   "cell_type": "code",
   "execution_count": 9,
   "id": "847bf666",
   "metadata": {},
   "outputs": [
    {
     "data": {
      "image/png": "[encoded data removed]",
      "text/plain": [
       "<Figure size 432x288 with 1 Axes>"
      ]
     },
     "metadata": {
      "needs_background": "light"
     },
     "output_type": "display_data"
    }
   ],
   "source": [
    "plt.scatter(x,y)\n",
    "plt.show()"
   ]
  },
  {
   "cell_type": "code",
   "execution_count": 10,
   "id": "00b3b2ce",
   "metadata": {},
   "outputs": [
    {
     "data": {
      "text/plain": [
       "array([[1],\n",
       "       [2],\n",
       "       [3],\n",
       "       [4],\n",
       "       [5]])"
      ]
     },
     "execution_count": 10,
     "metadata": {},
     "output_type": "execute_result"
    }
   ],
   "source": [
    "x1=x.reshape(-1,1)\n",
    "x1"
   ]
  },
  {
   "cell_type": "code",
   "execution_count": 11,
   "id": "0cad5898",
   "metadata": {},
   "outputs": [],
   "source": [
    "from sklearn.linear_model import LinearRegression"
   ]
  },
  {
   "cell_type": "code",
   "execution_count": 12,
   "id": "97ce47da",
   "metadata": {},
   "outputs": [],
   "source": [
    "model =LinearRegression()"
   ]
  },
  {
   "cell_type": "code",
   "execution_count": 13,
   "id": "8ef94292",
   "metadata": {},
   "outputs": [
    {
     "data": {
      "text/plain": [
       "LinearRegression()"
      ]
     },
     "execution_count": 13,
     "metadata": {},
     "output_type": "execute_result"
    }
   ],
   "source": [
    "model.fit(x1,y)"
   ]
  },
  {
   "cell_type": "code",
   "execution_count": 14,
   "id": "389e5a6e",
   "metadata": {},
   "outputs": [
    {
     "data": {
      "text/plain": [
       "array([2.8, 3.2, 3.6, 4. , 4.4])"
      ]
     },
     "execution_count": 14,
     "metadata": {},
     "output_type": "execute_result"
    }
   ],
   "source": [
    "y_pred=model.predict(x1)\n",
    "y_pred"
   ]
  },
  {
   "cell_type": "code",
   "execution_count": 15,
   "id": "f2474fb2",
   "metadata": {},
   "outputs": [
    {
     "data": {
      "image/png": "[encoded data removed]",
      "text/plain": [
       "<Figure size 432x288 with 1 Axes>"
      ]
     },
     "metadata": {
      "needs_background": "light"
     },
     "output_type": "display_data"
    }
   ],
   "source": [
    "plt.scatter(x,y)\n",
    "plt.plot(x1,y_pred,color='r')\n",
    "plt.show()"
   ]
  },
  {
   "cell_type": "code",
   "execution_count": null,
   "id": "ded86efc",
   "metadata": {},
   "outputs": [],
   "source": []
  },
  {
   "cell_type": "code",
   "execution_count": null,
   "id": "a4199ecf",
   "metadata": {},
   "outputs": [],
   "source": []
  },
  {
   "cell_type": "code",
   "execution_count": 16,
   "id": "4466a656",
   "metadata": {},
   "outputs": [],
   "source": [
    "x =[25,26,15,48,54,65,32,25,45]\n",
    "y =[48,25,65,45,95,47,32,45,65]"
   ]
  },
  {
   "cell_type": "code",
   "execution_count": 17,
   "id": "e9142a69",
   "metadata": {},
   "outputs": [],
   "source": [
    "import numpy as np"
   ]
  },
  {
   "cell_type": "code",
   "execution_count": 18,
   "id": "0905a7a1",
   "metadata": {},
   "outputs": [],
   "source": [
    "x=np.array([25,26,15,48,54,65,32,25,45])"
   ]
  },
  {
   "cell_type": "code",
   "execution_count": 19,
   "id": "a71e230f",
   "metadata": {},
   "outputs": [],
   "source": [
    "y=np.array([48,25,65,45,95,47,32,45,65])"
   ]
  },
  {
   "cell_type": "code",
   "execution_count": 20,
   "id": "6bde717a",
   "metadata": {},
   "outputs": [],
   "source": [
    "import matplotlib.pyplot as plt"
   ]
  },
  {
   "cell_type": "code",
   "execution_count": 21,
   "id": "7ff5fe0e",
   "metadata": {},
   "outputs": [
    {
     "data": {
      "image/png": "[encoded data removed]",
      "text/plain": [
       "<Figure size 432x288 with 1 Axes>"
      ]
     },
     "metadata": {
      "needs_background": "light"
     },
     "output_type": "display_data"
    }
   ],
   "source": [
    "plt.scatter(x,y)\n",
    "plt.show()"
   ]
  },
  {
   "cell_type": "code",
   "execution_count": 22,
   "id": "7b0930cb",
   "metadata": {},
   "outputs": [
    {
     "data": {
      "text/plain": [
       "array([[25],\n",
       "       [26],\n",
       "       [15],\n",
       "       [48],\n",
       "       [54],\n",
       "       [65],\n",
       "       [32],\n",
       "       [25],\n",
       "       [45]])"
      ]
     },
     "execution_count": 22,
     "metadata": {},
     "output_type": "execute_result"
    }
   ],
   "source": [
    "x1= x.reshape(-1,1)\n",
    "x1"
   ]
  },
  {
   "cell_type": "code",
   "execution_count": 23,
   "id": "68d02c88",
   "metadata": {},
   "outputs": [],
   "source": [
    "from sklearn.linear_model import LinearRegression"
   ]
  },
  {
   "cell_type": "code",
   "execution_count": 24,
   "id": "15e3b409",
   "metadata": {},
   "outputs": [],
   "source": [
    "model = LinearRegression()"
   ]
  },
  {
   "cell_type": "code",
   "execution_count": 25,
   "id": "fa14a3f0",
   "metadata": {},
   "outputs": [
    {
     "data": {
      "text/plain": [
       "LinearRegression()"
      ]
     },
     "execution_count": 25,
     "metadata": {},
     "output_type": "execute_result"
    }
   ],
   "source": [
    "model.fit(x1,y)"
   ]
  },
  {
   "cell_type": "code",
   "execution_count": 26,
   "id": "29d267ee",
   "metadata": {},
   "outputs": [
    {
     "data": {
      "text/plain": [
       "array([47.0505618 , 47.44642492, 43.09193054, 56.15541369, 58.53059244,\n",
       "       62.88508682, 49.82160368, 47.0505618 , 54.96782431])"
      ]
     },
     "execution_count": 26,
     "metadata": {},
     "output_type": "execute_result"
    }
   ],
   "source": [
    "y_pred = model.predict(x1)\n",
    "y_pred"
   ]
  },
  {
   "cell_type": "code",
   "execution_count": 27,
   "id": "05205e26",
   "metadata": {},
   "outputs": [
    {
     "data": {
      "image/png": "[encoded data removed]",
      "text/plain": [
       "<Figure size 432x288 with 1 Axes>"
      ]
     },
     "metadata": {
      "needs_background": "light"
     },
     "output_type": "display_data"
    }
   ],
   "source": [
    "plt.scatter(x,y)\n",
    "plt.plot(x1,y_pred,color ='r')\n",
    "plt.show()"
   ]
  },
  {
   "cell_type": "code",
   "execution_count": null,
   "id": "1e78dbb5",
   "metadata": {},
   "outputs": [],
   "source": []
  },
  {
   "cell_type": "code",
   "execution_count": null,
   "id": "92157097",
   "metadata": {},
   "outputs": [],
   "source": []
  },
  {
   "cell_type": "code",
   "execution_count": 28,
   "id": "9d3900d0",
   "metadata": {},
   "outputs": [],
   "source": [
    "area=[2000,2100,2200,2300,2400]\n",
    "price=[5500000,5530000,5560000,5590000,5620000]"
   ]
  },
  {
   "cell_type": "code",
   "execution_count": 29,
   "id": "2913ea01",
   "metadata": {},
   "outputs": [],
   "source": [
    "import numpy as np"
   ]
  },
  {
   "cell_type": "code",
   "execution_count": 30,
   "id": "fd0abfd9",
   "metadata": {},
   "outputs": [],
   "source": [
    "x=np.array([2000,2100,2200,2300,2400])\n",
    "y=np.array([5500000,5530000,5560000,5590000,5620000])"
   ]
  },
  {
   "cell_type": "code",
   "execution_count": 31,
   "id": "212a76da",
   "metadata": {},
   "outputs": [
    {
     "data": {
      "text/plain": [
       "array([[2000],\n",
       "       [2100],\n",
       "       [2200],\n",
       "       [2300],\n",
       "       [2400]])"
      ]
     },
     "execution_count": 31,
     "metadata": {},
     "output_type": "execute_result"
    }
   ],
   "source": [
    "x1 = x.reshape(-1,1)\n",
    "x1"
   ]
  },
  {
   "cell_type": "code",
   "execution_count": 32,
   "id": "f9cbdeac",
   "metadata": {},
   "outputs": [
    {
     "data": {
      "image/png": "[encoded data removed]",
      "text/plain": [
       "<Figure size 432x288 with 1 Axes>"
      ]
     },
     "metadata": {
      "needs_background": "light"
     },
     "output_type": "display_data"
    }
   ],
   "source": [
    "plt.scatter(x,y)\n",
    "plt.show()"
   ]
  },
  {
   "cell_type": "code",
   "execution_count": 33,
   "id": "a15f0736",
   "metadata": {},
   "outputs": [],
   "source": [
    "from sklearn.linear_model import LinearRegression"
   ]
  },
  {
   "cell_type": "code",
   "execution_count": 34,
   "id": "0b0cb574",
   "metadata": {},
   "outputs": [],
   "source": [
    "model = LinearRegression()"
   ]
  },
  {
   "cell_type": "code",
   "execution_count": 35,
   "id": "9df537c6",
   "metadata": {
    "scrolled": true
   },
   "outputs": [
    {
     "data": {
      "text/plain": [
       "LinearRegression()"
      ]
     },
     "execution_count": 35,
     "metadata": {},
     "output_type": "execute_result"
    }
   ],
   "source": [
    "model.fit(x1,y)"
   ]
  },
  {
   "cell_type": "code",
   "execution_count": 36,
   "id": "2067b731",
   "metadata": {},
   "outputs": [
    {
     "data": {
      "text/plain": [
       "array([5500000., 5530000., 5560000., 5590000., 5620000.])"
      ]
     },
     "execution_count": 36,
     "metadata": {},
     "output_type": "execute_result"
    }
   ],
   "source": [
    "y_pred=model.predict(x1)\n",
    "y_pred"
   ]
  },
  {
   "cell_type": "code",
   "execution_count": 37,
   "id": "494cb048",
   "metadata": {},
   "outputs": [
    {
     "data": {
      "image/png": "[encoded data removed]",
      "text/plain": [
       "<Figure size 432x288 with 1 Axes>"
      ]
     },
     "metadata": {
      "needs_background": "light"
     },
     "output_type": "display_data"
    }
   ],
   "source": [
    "plt.scatter(x,y)\n",
    "plt.plot(x1,y_pred,color='r')\n",
    "plt.show()"
   ]
  },
  {
   "cell_type": "code",
   "execution_count": 38,
   "id": "c9c06767",
   "metadata": {},
   "outputs": [
    {
     "data": {
      "text/plain": [
       "array([300.])"
      ]
     },
     "execution_count": 38,
     "metadata": {},
     "output_type": "execute_result"
    }
   ],
   "source": [
    "model.coef_"
   ]
  },
  {
   "cell_type": "code",
   "execution_count": 39,
   "id": "ade8a394",
   "metadata": {},
   "outputs": [
    {
     "data": {
      "text/plain": [
       "4900000.0"
      ]
     },
     "execution_count": 39,
     "metadata": {},
     "output_type": "execute_result"
    }
   ],
   "source": [
    "model.intercept_"
   ]
  },
  {
   "cell_type": "code",
   "execution_count": 40,
   "id": "1cb84988",
   "metadata": {},
   "outputs": [
    {
     "data": {
      "text/plain": [
       "array([5350000.])"
      ]
     },
     "execution_count": 40,
     "metadata": {},
     "output_type": "execute_result"
    }
   ],
   "source": [
    "model.predict([[1500]])   # input dyaych mg output kay yeil he sangat."
   ]
  },
  {
   "cell_type": "code",
   "execution_count": 41,
   "id": "8be4ae0d",
   "metadata": {},
   "outputs": [
    {
     "data": {
      "text/plain": [
       "1.0"
      ]
     },
     "execution_count": 41,
     "metadata": {},
     "output_type": "execute_result"
    }
   ],
   "source": [
    "model.score(x1,y)    # to check accurency of model."
   ]
  },
  {
   "cell_type": "code",
   "execution_count": 42,
   "id": "0c785326",
   "metadata": {},
   "outputs": [],
   "source": [
    "from sklearn.metrics import r2_score"
   ]
  },
  {
   "cell_type": "code",
   "execution_count": 43,
   "id": "445f5744",
   "metadata": {},
   "outputs": [
    {
     "data": {
      "text/plain": [
       "1.0"
      ]
     },
     "execution_count": 43,
     "metadata": {},
     "output_type": "execute_result"
    }
   ],
   "source": [
    "r2_score(y,y_pred)"
   ]
  },
  {
   "cell_type": "code",
   "execution_count": null,
   "id": "41cf0d10",
   "metadata": {},
   "outputs": [],
   "source": []
  },
  {
   "cell_type": "code",
   "execution_count": null,
   "id": "2744ce7d",
   "metadata": {},
   "outputs": [],
   "source": []
  },
  {
   "cell_type": "code",
   "execution_count": 44,
   "id": "59586eb0",
   "metadata": {},
   "outputs": [],
   "source": [
    "age=[5,7,8,7,2,17,2,9,4,11,12,9,6]\n",
    "speed=[99,86,87,88,111,86,103,87,94,78,77,85,86]"
   ]
  },
  {
   "cell_type": "code",
   "execution_count": 45,
   "id": "b889b170",
   "metadata": {},
   "outputs": [],
   "source": [
    "import matplotlib.pyplot as plt"
   ]
  },
  {
   "cell_type": "code",
   "execution_count": 46,
   "id": "313a5c02",
   "metadata": {},
   "outputs": [
    {
     "data": {
      "image/png": "[encoded data removed]",
      "text/plain": [
       "<Figure size 432x288 with 1 Axes>"
      ]
     },
     "metadata": {
      "needs_background": "light"
     },
     "output_type": "display_data"
    }
   ],
   "source": [
    "plt.scatter(age,speed)\n",
    "plt.show()"
   ]
  },
  {
   "cell_type": "code",
   "execution_count": 47,
   "id": "db2dc7c6",
   "metadata": {},
   "outputs": [],
   "source": [
    "from scipy import stats"
   ]
  },
  {
   "cell_type": "code",
   "execution_count": 48,
   "id": "e61b3fb4",
   "metadata": {},
   "outputs": [
    {
     "data": {
      "text/plain": [
       "LinregressResult(slope=-1.7512877115526118, intercept=103.10596026490066, rvalue=-0.758591524376155, pvalue=0.0026468739224561064, stderr=0.453536157607742, intercept_stderr=3.9034928101545123)"
      ]
     },
     "execution_count": 48,
     "metadata": {},
     "output_type": "execute_result"
    }
   ],
   "source": [
    "stats.linregress(age,speed)"
   ]
  },
  {
   "cell_type": "code",
   "execution_count": 49,
   "id": "64f1f265",
   "metadata": {},
   "outputs": [],
   "source": [
    "slope,intercept,rvalue,pvalue,stderr=stats.linregress(age,speed)"
   ]
  },
  {
   "cell_type": "code",
   "execution_count": 50,
   "id": "bcba60cb",
   "metadata": {},
   "outputs": [
    {
     "data": {
      "text/plain": [
       "-1.7512877115526118"
      ]
     },
     "execution_count": 50,
     "metadata": {},
     "output_type": "execute_result"
    }
   ],
   "source": [
    "slope"
   ]
  },
  {
   "cell_type": "code",
   "execution_count": 51,
   "id": "6b709b6b",
   "metadata": {},
   "outputs": [
    {
     "data": {
      "text/plain": [
       "103.10596026490066"
      ]
     },
     "execution_count": 51,
     "metadata": {},
     "output_type": "execute_result"
    }
   ],
   "source": [
    "intercept"
   ]
  },
  {
   "cell_type": "code",
   "execution_count": 52,
   "id": "6908cc3e",
   "metadata": {},
   "outputs": [
    {
     "data": {
      "text/plain": [
       "-0.758591524376155"
      ]
     },
     "execution_count": 52,
     "metadata": {},
     "output_type": "execute_result"
    }
   ],
   "source": [
    "rvalue"
   ]
  },
  {
   "cell_type": "code",
   "execution_count": 53,
   "id": "c1ddabd6",
   "metadata": {},
   "outputs": [
    {
     "data": {
      "text/plain": [
       "0.0026468739224561064"
      ]
     },
     "execution_count": 53,
     "metadata": {},
     "output_type": "execute_result"
    }
   ],
   "source": [
    "pvalue"
   ]
  },
  {
   "cell_type": "code",
   "execution_count": 54,
   "id": "d7d7c3e1",
   "metadata": {},
   "outputs": [
    {
     "data": {
      "text/plain": [
       "0.453536157607742"
      ]
     },
     "execution_count": 54,
     "metadata": {},
     "output_type": "execute_result"
    }
   ],
   "source": [
    "stderr"
   ]
  },
  {
   "cell_type": "code",
   "execution_count": 55,
   "id": "72b98044",
   "metadata": {},
   "outputs": [],
   "source": [
    "def prediction(age):\n",
    "    return slope*age + intercept"
   ]
  },
  {
   "cell_type": "code",
   "execution_count": 56,
   "id": "fa1f072d",
   "metadata": {},
   "outputs": [],
   "source": [
    "y_pred=list(map(prediction,age))"
   ]
  },
  {
   "cell_type": "code",
   "execution_count": 57,
   "id": "54a133c7",
   "metadata": {},
   "outputs": [
    {
     "data": {
      "text/plain": [
       "[94.3495217071376,\n",
       " 90.84694628403238,\n",
       " 89.09565857247976,\n",
       " 90.84694628403238,\n",
       " 99.60338484179543,\n",
       " 73.33406916850626,\n",
       " 99.60338484179543,\n",
       " 87.34437086092716,\n",
       " 96.10080941869022,\n",
       " 83.84179543782193,\n",
       " 82.09050772626932,\n",
       " 87.34437086092716,\n",
       " 92.59823399558499]"
      ]
     },
     "execution_count": 57,
     "metadata": {},
     "output_type": "execute_result"
    }
   ],
   "source": [
    "y_pred"
   ]
  },
  {
   "cell_type": "code",
   "execution_count": 58,
   "id": "4ea9b093",
   "metadata": {},
   "outputs": [
    {
     "data": {
      "image/png": "[encoded data removed]",
      "text/plain": [
       "<Figure size 432x288 with 1 Axes>"
      ]
     },
     "metadata": {
      "needs_background": "light"
     },
     "output_type": "display_data"
    }
   ],
   "source": [
    "plt.scatter(age,speed)\n",
    "plt.plot(age,y_pred,color='r')\n",
    "plt.show()"
   ]
  },
  {
   "cell_type": "code",
   "execution_count": 59,
   "id": "f62d23b3",
   "metadata": {},
   "outputs": [],
   "source": [
    "from sklearn.metrics import r2_score"
   ]
  },
  {
   "cell_type": "code",
   "execution_count": 60,
   "id": "43cc003a",
   "metadata": {},
   "outputs": [
    {
     "data": {
      "text/plain": [
       "0.5754611008553381"
      ]
     },
     "execution_count": 60,
     "metadata": {},
     "output_type": "execute_result"
    }
   ],
   "source": [
    "r2_score(speed,y_pred)"
   ]
  },
  {
   "cell_type": "code",
   "execution_count": null,
   "id": "de83eb47",
   "metadata": {},
   "outputs": [],
   "source": []
  },
  {
   "cell_type": "code",
   "execution_count": null,
   "id": "38d882a8",
   "metadata": {},
   "outputs": [],
   "source": []
  },
  {
   "cell_type": "code",
   "execution_count": 61,
   "id": "ac0c89ac",
   "metadata": {},
   "outputs": [],
   "source": [
    "x=[27000,43000,6900,5200,42450]\n",
    "y=[3.35,4.75,7.25,2.85,4.60]"
   ]
  },
  {
   "cell_type": "code",
   "execution_count": 62,
   "id": "4888496f",
   "metadata": {
    "scrolled": true
   },
   "outputs": [
    {
     "data": {
      "image/png": "[encoded data removed]",
      "text/plain": [
       "<Figure size 432x288 with 1 Axes>"
      ]
     },
     "metadata": {
      "needs_background": "light"
     },
     "output_type": "display_data"
    }
   ],
   "source": [
    "plt.scatter(x,y)\n",
    "plt.show()"
   ]
  },
  {
   "cell_type": "code",
   "execution_count": 63,
   "id": "d554d39d",
   "metadata": {},
   "outputs": [],
   "source": [
    "import numpy as np"
   ]
  },
  {
   "cell_type": "code",
   "execution_count": 64,
   "id": "36af2ebd",
   "metadata": {},
   "outputs": [
    {
     "data": {
      "text/plain": [
       "array([27000, 43000,  6900,  5200, 42450])"
      ]
     },
     "execution_count": 64,
     "metadata": {},
     "output_type": "execute_result"
    }
   ],
   "source": [
    "x=np.array([27000,43000,6900,5200,42450])\n",
    "x"
   ]
  },
  {
   "cell_type": "code",
   "execution_count": 65,
   "id": "c270534e",
   "metadata": {},
   "outputs": [
    {
     "data": {
      "text/plain": [
       "array([3.35, 4.75, 7.25, 2.85, 4.6 ])"
      ]
     },
     "execution_count": 65,
     "metadata": {},
     "output_type": "execute_result"
    }
   ],
   "source": [
    "y=np.array([3.35,4.75,7.25,2.85,4.60])\n",
    "y"
   ]
  },
  {
   "cell_type": "code",
   "execution_count": 66,
   "id": "97ae8e89",
   "metadata": {},
   "outputs": [
    {
     "data": {
      "text/plain": [
       "array([[27000],\n",
       "       [43000],\n",
       "       [ 6900],\n",
       "       [ 5200],\n",
       "       [42450]])"
      ]
     },
     "execution_count": 66,
     "metadata": {},
     "output_type": "execute_result"
    }
   ],
   "source": [
    "x1=x.reshape(-1,1)\n",
    "x1"
   ]
  },
  {
   "cell_type": "code",
   "execution_count": 67,
   "id": "41135b94",
   "metadata": {},
   "outputs": [],
   "source": [
    "from sklearn.linear_model import LinearRegression"
   ]
  },
  {
   "cell_type": "code",
   "execution_count": 68,
   "id": "07e7dafc",
   "metadata": {},
   "outputs": [],
   "source": [
    "model=LinearRegression()"
   ]
  },
  {
   "cell_type": "code",
   "execution_count": 69,
   "id": "9b0a6c1a",
   "metadata": {},
   "outputs": [
    {
     "data": {
      "text/plain": [
       "LinearRegression()"
      ]
     },
     "execution_count": 69,
     "metadata": {},
     "output_type": "execute_result"
    }
   ],
   "source": [
    "model.fit(x1,y)"
   ]
  },
  {
   "cell_type": "code",
   "execution_count": 70,
   "id": "cac2046b",
   "metadata": {},
   "outputs": [
    {
     "data": {
      "text/plain": [
       "array([4.53969993, 4.38429268, 4.73493028, 4.7514423 , 4.38963481])"
      ]
     },
     "execution_count": 70,
     "metadata": {},
     "output_type": "execute_result"
    }
   ],
   "source": [
    "y_pred=model.predict(x1)\n",
    "y_pred"
   ]
  },
  {
   "cell_type": "code",
   "execution_count": 71,
   "id": "475bd8b9",
   "metadata": {},
   "outputs": [
    {
     "data": {
      "image/png": "[encoded data removed]",
      "text/plain": [
       "<Figure size 432x288 with 1 Axes>"
      ]
     },
     "metadata": {
      "needs_background": "light"
     },
     "output_type": "display_data"
    }
   ],
   "source": [
    "plt.scatter(x,y)\n",
    "plt.plot(x1,y_pred,color='r')\n",
    "plt.show()"
   ]
  },
  {
   "cell_type": "code",
   "execution_count": 72,
   "id": "5cdbc1a3",
   "metadata": {},
   "outputs": [
    {
     "data": {
      "text/plain": [
       "0.010938107423228316"
      ]
     },
     "execution_count": 72,
     "metadata": {},
     "output_type": "execute_result"
    }
   ],
   "source": [
    "model.score(x1,y)"
   ]
  },
  {
   "cell_type": "code",
   "execution_count": 73,
   "id": "71188bcf",
   "metadata": {},
   "outputs": [
    {
     "data": {
      "text/plain": [
       "array([-9.71295277e-06])"
      ]
     },
     "execution_count": 73,
     "metadata": {},
     "output_type": "execute_result"
    }
   ],
   "source": [
    "model.coef_"
   ]
  },
  {
   "cell_type": "code",
   "execution_count": 74,
   "id": "35d83305",
   "metadata": {},
   "outputs": [
    {
     "data": {
      "text/plain": [
       "4.801949653578993"
      ]
     },
     "execution_count": 74,
     "metadata": {},
     "output_type": "execute_result"
    }
   ],
   "source": [
    "model.intercept_"
   ]
  },
  {
   "cell_type": "code",
   "execution_count": null,
   "id": "af4586ce",
   "metadata": {},
   "outputs": [],
   "source": []
  }
 ],
 "metadata": {
  "kernelspec": {
   "display_name": "Python 3 (ipykernel)",
   "language": "python",
   "name": "python3"
  },
  "language_info": {
   "codemirror_mode": {
    "name": "ipython",
    "version": 3
   },
   "file_extension": ".py",
   "mimetype": "text/x-python",
   "name": "python",
   "nbconvert_exporter": "python",
   "pygments_lexer": "ipython3",
   "version": "3.9.7"
  }
 },
 "nbformat": 4,
 "nbformat_minor": 5
}
